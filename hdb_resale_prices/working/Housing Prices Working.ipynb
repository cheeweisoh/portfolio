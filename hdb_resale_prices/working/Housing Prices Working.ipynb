{
 "cells": [
  {
   "attachments": {},
   "cell_type": "markdown",
   "metadata": {},
   "source": [
    "# Resale Prices Working File"
   ]
  },
  {
   "cell_type": "code",
   "execution_count": 1,
   "metadata": {},
   "outputs": [],
   "source": [
    "import requests\n",
    "import os\n",
    "import pandas as pd\n",
    "import numpy as np\n",
    "from tqdm.notebook import trange"
   ]
  },
  {
   "cell_type": "code",
   "execution_count": 5,
   "metadata": {},
   "outputs": [],
   "source": [
    "pd.set_option('display.width', 300)\n",
    "pd.set_option('display.max_columns', 10)\n",
    "\n",
    "# os.chdir('D:/User/Documents/R/Github/Portfolio/hdb_resale_prices/')\n",
    "os.chdir('C:/Users/thela/Documents/Github/Portfolio/hdb_resale_prices/')"
   ]
  },
  {
   "cell_type": "code",
   "execution_count": 127,
   "metadata": {},
   "outputs": [],
   "source": [
    "def onemap_geocoding(address):\n",
    "    result = requests.get('https://developers.onemap.sg/commonapi/search?searchVal='+address+'&returnGeom=Y&getAddrDetails=Y&pageNum=1')\n",
    "    result = eval(result.text)\n",
    "    \n",
    "    if result['found'] > 0:\n",
    "        lat, long = result['results'][0]['LATITUDE'], result['results'][0]['LONGITUDE']\n",
    "        return address, lat, long\n",
    "    else:\n",
    "        pass\n",
    "\n",
    "def onemap_geocoding_flat(address):\n",
    "    result = requests.get('https://developers.onemap.sg/commonapi/search?searchVal='+address+'&returnGeom=Y&getAddrDetails=Y&pageNum=1')\n",
    "    result = eval(result.text)\n",
    "    \n",
    "    if result['found'] > 0:\n",
    "        for i in result['results']:\n",
    "            lat, long = i['LATITUDE'], i['LONGITUDE']\n",
    "            r_block, r_street = i['BLK_NO'], i['ROAD_NAME']\n",
    "            r_add = r_block + ' ' + r_street\n",
    "            \n",
    "            if r_add == address:\n",
    "                return address, r_add, lat, long\n",
    "            else:\n",
    "                continue\n",
    "        return address, 'none', '0', '0'\n",
    "    else:\n",
    "        pass\n",
    "    \n",
    "def geocode_series(addresses, func):\n",
    "    coord_list = []\n",
    "    failed_list = []\n",
    "    failed = 0\n",
    "    t = trange(len(addresses), desc='Geoding Addresses')\n",
    "    for i in t:\n",
    "        try:\n",
    "            result = func(addresses[i])\n",
    "            if len(result) > 0:\n",
    "                coord_list.append(result)\n",
    "                t.set_description('{} failed'.format(failed))\n",
    "        except Exception as e:\n",
    "            print(e)\n",
    "            failed_list.append(addresses[i])\n",
    "            failed += 1\n",
    "            t.set_description('{} failed'.format(failed))\n",
    "    print(failed_list if failed_list else \"All passed\")\n",
    "    return coord_list\n",
    "\n",
    "def calculate_dist(address_df, dist_df, date_check=False):\n",
    "    temp = address_df.copy()\n",
    "    t = trange(len(dist_df), desc='Feature Distance Calculation')\n",
    "    for _, i in dist_df.iterrows():\n",
    "        name, lat, long = i[0], float(i[1]), float(i[2])\n",
    "        distances = (((address_df['latitude'] - lat) * 110.574) ** 2 + ((address_df['longitude'] - long) * 111.32) ** 2) ** 0.5\n",
    "        if date_check:\n",
    "            check_date = i[3]\n",
    "            exists = (address_df['sale_year'] > check_date.year) | ((address_df['sale_year'] > check_date.year) & (address_df['sale_month'] >= check_date.month))\n",
    "            distances = pd.concat([distances, exists], axis=1).apply(lambda x: x[0] if x[1] else float(\"inf\"), axis=1)\n",
    "        temp = pd.concat([temp, distances.rename(name)], axis=1)\n",
    "        t.update(1)\n",
    "    nearest_name = temp.drop(['address', 'longitude', 'latitude', 'month', 'sale_year', 'sale_month'], axis=1).idxmin(axis=1)\n",
    "    nearest_dist = temp.drop(['address', 'longitude', 'latitude', 'month', 'sale_year', 'sale_month'], axis=1).min(axis=1)\n",
    "    nearest = pd.concat([temp[['address', 'month']], nearest_name, nearest_dist], axis=1)\n",
    "    return nearest\n",
    "\n",
    "# test = calculate_dist(resale_df, mrt_coord_df)\n",
    "\n",
    "def calculate_pri_score(address_df, dist_list, rank_list, dist_cutoff, num_cutoff, dist_weights={1: 0.1, 2: 0.5, 999: 1}):\n",
    "    temp = address_df.copy()\n",
    "    for i in dist_list:\n",
    "        name, lat, long = i[0], float(i[1]), float(i[2])\n",
    "        rank = int(rank_list.loc[rank_list['pri_sch_name'] == name]['rank'])\n",
    "        temp[str(rank)] = (((address_df['latitude'] - lat) * 110.574) ** 2 + ((address_df['longitude'] - long) * 111.32) ** 2) ** 0.5\n",
    "        \n",
    "    t = trange(len(temp), desc='Address')\n",
    "    distances = temp.drop(['address', 'latitude', 'longitude'], axis=1)\n",
    "    result = {}\n",
    "    for i in t:\n",
    "        row = distances.iloc[i]\n",
    "        row = row[row <= dist_cutoff][:num_cutoff]\n",
    "        \n",
    "        score = 0\n",
    "        for j in row.index:\n",
    "            dist = row[j]\n",
    "            for ring in dist_weights.keys():\n",
    "                if dist < ring:\n",
    "                    weight = dist_weights[ring]\n",
    "                    break\n",
    "            score += (weight * int(j))\n",
    "\n",
    "        result[temp.iloc[i]['address']] = score if score != 0 else 9999\n",
    "        \n",
    "    result = pd.DataFrame.from_dict(result, orient='index', columns=['pri_sch_score'])\n",
    "    return result"
   ]
  },
  {
   "cell_type": "code",
   "execution_count": null,
   "metadata": {},
   "outputs": [],
   "source": []
  },
  {
   "attachments": {},
   "cell_type": "markdown",
   "metadata": {},
   "source": [
    "## Dataset"
   ]
  },
  {
   "attachments": {},
   "cell_type": "markdown",
   "metadata": {},
   "source": [
    "Importing resale prices from data.gov API"
   ]
  },
  {
   "cell_type": "code",
   "execution_count": null,
   "metadata": {},
   "outputs": [],
   "source": [
    "dataset = requests.get('https://data.gov.sg/api/action/datastore_search?resource_id=f1765b54-a209-4718-8d38-a39237f502b3&limit=9999999').json()\n",
    "resale_df = pd.DataFrame(dataset['result']['records'])\n",
    "resale_df.to_csv('data/resale_df_raw.csv', index=False)"
   ]
  },
  {
   "cell_type": "code",
   "execution_count": 7,
   "metadata": {},
   "outputs": [],
   "source": [
    "resale_df = pd.read_csv('data/resale_df_raw.csv')"
   ]
  },
  {
   "cell_type": "code",
   "execution_count": 8,
   "metadata": {},
   "outputs": [
    {
     "data": {
      "text/html": [
       "<div>\n",
       "<style scoped>\n",
       "    .dataframe tbody tr th:only-of-type {\n",
       "        vertical-align: middle;\n",
       "    }\n",
       "\n",
       "    .dataframe tbody tr th {\n",
       "        vertical-align: top;\n",
       "    }\n",
       "\n",
       "    .dataframe thead th {\n",
       "        text-align: right;\n",
       "    }\n",
       "</style>\n",
       "<table border=\"1\" class=\"dataframe\">\n",
       "  <thead>\n",
       "    <tr style=\"text-align: right;\">\n",
       "      <th></th>\n",
       "      <th>town</th>\n",
       "      <th>flat_type</th>\n",
       "      <th>flat_model</th>\n",
       "      <th>floor_area_sqm</th>\n",
       "      <th>street_name</th>\n",
       "      <th>...</th>\n",
       "      <th>remaining_lease</th>\n",
       "      <th>lease_commence_date</th>\n",
       "      <th>storey_range</th>\n",
       "      <th>_id</th>\n",
       "      <th>block</th>\n",
       "    </tr>\n",
       "  </thead>\n",
       "  <tbody>\n",
       "    <tr>\n",
       "      <th>0</th>\n",
       "      <td>ANG MO KIO</td>\n",
       "      <td>2 ROOM</td>\n",
       "      <td>Improved</td>\n",
       "      <td>44.0</td>\n",
       "      <td>ANG MO KIO AVE 10</td>\n",
       "      <td>...</td>\n",
       "      <td>61 years 04 months</td>\n",
       "      <td>1979</td>\n",
       "      <td>10 TO 12</td>\n",
       "      <td>1</td>\n",
       "      <td>406</td>\n",
       "    </tr>\n",
       "    <tr>\n",
       "      <th>1</th>\n",
       "      <td>ANG MO KIO</td>\n",
       "      <td>3 ROOM</td>\n",
       "      <td>New Generation</td>\n",
       "      <td>67.0</td>\n",
       "      <td>ANG MO KIO AVE 4</td>\n",
       "      <td>...</td>\n",
       "      <td>60 years 07 months</td>\n",
       "      <td>1978</td>\n",
       "      <td>01 TO 03</td>\n",
       "      <td>2</td>\n",
       "      <td>108</td>\n",
       "    </tr>\n",
       "    <tr>\n",
       "      <th>2</th>\n",
       "      <td>ANG MO KIO</td>\n",
       "      <td>3 ROOM</td>\n",
       "      <td>New Generation</td>\n",
       "      <td>67.0</td>\n",
       "      <td>ANG MO KIO AVE 5</td>\n",
       "      <td>...</td>\n",
       "      <td>62 years 05 months</td>\n",
       "      <td>1980</td>\n",
       "      <td>01 TO 03</td>\n",
       "      <td>3</td>\n",
       "      <td>602</td>\n",
       "    </tr>\n",
       "    <tr>\n",
       "      <th>3</th>\n",
       "      <td>ANG MO KIO</td>\n",
       "      <td>3 ROOM</td>\n",
       "      <td>New Generation</td>\n",
       "      <td>68.0</td>\n",
       "      <td>ANG MO KIO AVE 10</td>\n",
       "      <td>...</td>\n",
       "      <td>62 years 01 month</td>\n",
       "      <td>1980</td>\n",
       "      <td>04 TO 06</td>\n",
       "      <td>4</td>\n",
       "      <td>465</td>\n",
       "    </tr>\n",
       "    <tr>\n",
       "      <th>4</th>\n",
       "      <td>ANG MO KIO</td>\n",
       "      <td>3 ROOM</td>\n",
       "      <td>New Generation</td>\n",
       "      <td>67.0</td>\n",
       "      <td>ANG MO KIO AVE 5</td>\n",
       "      <td>...</td>\n",
       "      <td>62 years 05 months</td>\n",
       "      <td>1980</td>\n",
       "      <td>01 TO 03</td>\n",
       "      <td>5</td>\n",
       "      <td>601</td>\n",
       "    </tr>\n",
       "  </tbody>\n",
       "</table>\n",
       "<p>5 rows × 12 columns</p>\n",
       "</div>"
      ],
      "text/plain": [
       "         town flat_type      flat_model  floor_area_sqm        street_name  ...     remaining_lease lease_commence_date storey_range  _id block\n",
       "0  ANG MO KIO    2 ROOM        Improved            44.0  ANG MO KIO AVE 10  ...  61 years 04 months                1979     10 TO 12    1   406\n",
       "1  ANG MO KIO    3 ROOM  New Generation            67.0   ANG MO KIO AVE 4  ...  60 years 07 months                1978     01 TO 03    2   108\n",
       "2  ANG MO KIO    3 ROOM  New Generation            67.0   ANG MO KIO AVE 5  ...  62 years 05 months                1980     01 TO 03    3   602\n",
       "3  ANG MO KIO    3 ROOM  New Generation            68.0  ANG MO KIO AVE 10  ...   62 years 01 month                1980     04 TO 06    4   465\n",
       "4  ANG MO KIO    3 ROOM  New Generation            67.0   ANG MO KIO AVE 5  ...  62 years 05 months                1980     01 TO 03    5   601\n",
       "\n",
       "[5 rows x 12 columns]"
      ]
     },
     "execution_count": 8,
     "metadata": {},
     "output_type": "execute_result"
    }
   ],
   "source": [
    "resale_df.head()"
   ]
  },
  {
   "attachments": {},
   "cell_type": "markdown",
   "metadata": {},
   "source": [
    "Getting search fields for geocoding"
   ]
  },
  {
   "cell_type": "code",
   "execution_count": 9,
   "metadata": {},
   "outputs": [],
   "source": [
    "resale_df['address'] = resale_df['block'] + ' ' + resale_df['street_name']\n",
    "# resale_df['address'] = resale_df['address'].str.replace('ST. GEORGE', 'SAINT GEORGE')\n",
    "\n",
    "changes = [[r'\\bAVE\\b', 'AVENUE'],\n",
    "           [r'\\bRD\\b', 'ROAD'],\n",
    "           [r'\\bNTH\\b', 'NORTH'],\n",
    "           [r'\\bSTH\\b', 'SOUTH'],\n",
    "           [r'\\bST\\. GEORGE\\b', 'SAINT GEORGE'],\n",
    "           [r'\\bST\\b', 'STREET'],\n",
    "           [r'\\bCTRL\\b', 'CENTRAL'],\n",
    "           [r'\\bDR\\b', 'DRIVE'],\n",
    "           [r'\\bBT\\b', 'BUKIT'],\n",
    "           [r'\\bJLN\\b', 'JALAN'],\n",
    "           [r'\\bCRES\\b', 'CRESCENT'],\n",
    "           [r'\\bLOR\\b', 'LORONG'],\n",
    "           [r\"\\bC'WEALTH\\b\", 'COMMONWEALTH'],\n",
    "           [r'\\bCL\\b', 'CLOSE'],\n",
    "           [r'\\bGDNS\\b', 'GARDENS'],\n",
    "           [r'\\bUPP\\b', 'UPPER'],\n",
    "           [r'\\bHTS\\b', 'HEIGHTS'],\n",
    "           [r'\\bTER\\b', 'TERRACE'],\n",
    "           [r'\\bPL\\b', 'PLACE'],\n",
    "           [r'\\bTG\\b', 'TANJONG'],\n",
    "           [r'\\bPK\\b', 'PARK'],\n",
    "           [r'\\bMKT\\b', 'MARKET'],\n",
    "           [r'\\bKG\\b', 'KAMPONG']]\n",
    "for short, long in changes:\n",
    "    resale_df['address'] = resale_df['address'].str.replace(short, long, regex=True)"
   ]
  },
  {
   "attachments": {},
   "cell_type": "markdown",
   "metadata": {},
   "source": [
    "Geocoding address with OneMap API"
   ]
  },
  {
   "cell_type": "code",
   "execution_count": 14,
   "metadata": {},
   "outputs": [
    {
     "data": {
      "application/vnd.jupyter.widget-view+json": {
       "model_id": "210eabce937e4ed28cac3b88558030cd",
       "version_major": 2,
       "version_minor": 0
      },
      "text/plain": [
       "Geoding Addresses:   0%|          | 0/9459 [00:00<?, ?it/s]"
      ]
     },
     "metadata": {},
     "output_type": "display_data"
    },
    {
     "name": "stdout",
     "output_type": "stream",
     "text": [
      "All passed\n"
     ]
    }
   ],
   "source": [
    "house_addresses = resale_df['address'].unique()\n",
    "coord_list = geocode_series(house_addresses, onemap_geocoding_flat)\n",
    "coord_df = pd.DataFrame(coord_list, columns=['address', 'search_address', 'latitude', 'longitude'])"
   ]
  },
  {
   "cell_type": "code",
   "execution_count": 15,
   "metadata": {},
   "outputs": [
    {
     "data": {
      "text/html": [
       "<div>\n",
       "<style scoped>\n",
       "    .dataframe tbody tr th:only-of-type {\n",
       "        vertical-align: middle;\n",
       "    }\n",
       "\n",
       "    .dataframe tbody tr th {\n",
       "        vertical-align: top;\n",
       "    }\n",
       "\n",
       "    .dataframe thead th {\n",
       "        text-align: right;\n",
       "    }\n",
       "</style>\n",
       "<table border=\"1\" class=\"dataframe\">\n",
       "  <thead>\n",
       "    <tr style=\"text-align: right;\">\n",
       "      <th></th>\n",
       "      <th>address</th>\n",
       "      <th>search_address</th>\n",
       "      <th>latitude</th>\n",
       "      <th>longitude</th>\n",
       "    </tr>\n",
       "  </thead>\n",
       "  <tbody>\n",
       "  </tbody>\n",
       "</table>\n",
       "</div>"
      ],
      "text/plain": [
       "Empty DataFrame\n",
       "Columns: [address, search_address, latitude, longitude]\n",
       "Index: []"
      ]
     },
     "execution_count": 15,
     "metadata": {},
     "output_type": "execute_result"
    }
   ],
   "source": [
    "coord_df[coord_df['search_address'] == 'null']"
   ]
  },
  {
   "cell_type": "code",
   "execution_count": 16,
   "metadata": {},
   "outputs": [
    {
     "data": {
      "text/plain": [
       "address           0\n",
       "search_address    0\n",
       "latitude          0\n",
       "longitude         0\n",
       "dtype: int64"
      ]
     },
     "execution_count": 16,
     "metadata": {},
     "output_type": "execute_result"
    }
   ],
   "source": [
    "none_check = coord_df.isnull().sum()\n",
    "none_check"
   ]
  },
  {
   "cell_type": "code",
   "execution_count": 17,
   "metadata": {},
   "outputs": [],
   "source": [
    "cck_exception = eval(requests.get('https://developers.onemap.sg/commonapi/search?searchVal=BLK 216 AND 215 CHOA CHU KANG CENTRAL&returnGeom=Y&getAddrDetails=Y&pageNum=1').text)['results'][0]\n",
    "for idx in coord_df[coord_df['search_address'] == 'none'].index:\n",
    "    coord_df.loc[idx]['latitude'] = cck_exception['LATITUDE']\n",
    "    coord_df.loc[idx]['longitude'] = cck_exception['LONGITUDE']"
   ]
  },
  {
   "cell_type": "code",
   "execution_count": 18,
   "metadata": {},
   "outputs": [],
   "source": [
    "coord_df[['latitude','longitude']] = coord_df[['latitude', 'longitude']].astype(float)\n",
    "coord_df.drop('search_address', axis=1, inplace=True)"
   ]
  },
  {
   "cell_type": "code",
   "execution_count": 19,
   "metadata": {},
   "outputs": [
    {
     "name": "stderr",
     "output_type": "stream",
     "text": [
      "C:\\Users\\thela\\AppData\\Local\\Temp\\ipykernel_9056\\3417726555.py:3: SettingWithCopyWarning: \n",
      "A value is trying to be set on a copy of a slice from a DataFrame.\n",
      "Try using .loc[row_indexer,col_indexer] = value instead\n",
      "\n",
      "See the caveats in the documentation: https://pandas.pydata.org/pandas-docs/stable/user_guide/indexing.html#returning-a-view-versus-a-copy\n",
      "  resale_map_df['sale_year'] = resale_map_df['month'].str[:4].astype(int)\n",
      "C:\\Users\\thela\\AppData\\Local\\Temp\\ipykernel_9056\\3417726555.py:4: SettingWithCopyWarning: \n",
      "A value is trying to be set on a copy of a slice from a DataFrame.\n",
      "Try using .loc[row_indexer,col_indexer] = value instead\n",
      "\n",
      "See the caveats in the documentation: https://pandas.pydata.org/pandas-docs/stable/user_guide/indexing.html#returning-a-view-versus-a-copy\n",
      "  resale_map_df['sale_month'] = resale_map_df['month'].str[5:7].astype(int)\n"
     ]
    }
   ],
   "source": [
    "resale_df = resale_df.merge(right=coord_df, on='address', how='left')\n",
    "resale_map_df = resale_df[['address', 'month', 'latitude', 'longitude']]\n",
    "resale_map_df['sale_year'] = resale_map_df['month'].str[:4].astype(int)\n",
    "resale_map_df['sale_month'] = resale_map_df['month'].str[5:7].astype(int)"
   ]
  },
  {
   "cell_type": "code",
   "execution_count": 20,
   "metadata": {},
   "outputs": [
    {
     "data": {
      "text/html": [
       "<div>\n",
       "<style scoped>\n",
       "    .dataframe tbody tr th:only-of-type {\n",
       "        vertical-align: middle;\n",
       "    }\n",
       "\n",
       "    .dataframe tbody tr th {\n",
       "        vertical-align: top;\n",
       "    }\n",
       "\n",
       "    .dataframe thead th {\n",
       "        text-align: right;\n",
       "    }\n",
       "</style>\n",
       "<table border=\"1\" class=\"dataframe\">\n",
       "  <thead>\n",
       "    <tr style=\"text-align: right;\">\n",
       "      <th></th>\n",
       "      <th>address</th>\n",
       "      <th>month</th>\n",
       "      <th>latitude</th>\n",
       "      <th>longitude</th>\n",
       "      <th>sale_year</th>\n",
       "      <th>sale_month</th>\n",
       "    </tr>\n",
       "  </thead>\n",
       "  <tbody>\n",
       "    <tr>\n",
       "      <th>0</th>\n",
       "      <td>406 ANG MO KIO AVENUE 10</td>\n",
       "      <td>2017-01</td>\n",
       "      <td>1.362005</td>\n",
       "      <td>103.853880</td>\n",
       "      <td>2017</td>\n",
       "      <td>1</td>\n",
       "    </tr>\n",
       "    <tr>\n",
       "      <th>1</th>\n",
       "      <td>108 ANG MO KIO AVENUE 4</td>\n",
       "      <td>2017-01</td>\n",
       "      <td>1.370943</td>\n",
       "      <td>103.837975</td>\n",
       "      <td>2017</td>\n",
       "      <td>1</td>\n",
       "    </tr>\n",
       "    <tr>\n",
       "      <th>2</th>\n",
       "      <td>602 ANG MO KIO AVENUE 5</td>\n",
       "      <td>2017-01</td>\n",
       "      <td>1.380709</td>\n",
       "      <td>103.835368</td>\n",
       "      <td>2017</td>\n",
       "      <td>1</td>\n",
       "    </tr>\n",
       "    <tr>\n",
       "      <th>3</th>\n",
       "      <td>465 ANG MO KIO AVENUE 10</td>\n",
       "      <td>2017-01</td>\n",
       "      <td>1.366201</td>\n",
       "      <td>103.857201</td>\n",
       "      <td>2017</td>\n",
       "      <td>1</td>\n",
       "    </tr>\n",
       "    <tr>\n",
       "      <th>4</th>\n",
       "      <td>601 ANG MO KIO AVENUE 5</td>\n",
       "      <td>2017-01</td>\n",
       "      <td>1.381041</td>\n",
       "      <td>103.835132</td>\n",
       "      <td>2017</td>\n",
       "      <td>1</td>\n",
       "    </tr>\n",
       "  </tbody>\n",
       "</table>\n",
       "</div>"
      ],
      "text/plain": [
       "                    address    month  latitude   longitude  sale_year  sale_month\n",
       "0  406 ANG MO KIO AVENUE 10  2017-01  1.362005  103.853880       2017           1\n",
       "1   108 ANG MO KIO AVENUE 4  2017-01  1.370943  103.837975       2017           1\n",
       "2   602 ANG MO KIO AVENUE 5  2017-01  1.380709  103.835368       2017           1\n",
       "3  465 ANG MO KIO AVENUE 10  2017-01  1.366201  103.857201       2017           1\n",
       "4   601 ANG MO KIO AVENUE 5  2017-01  1.381041  103.835132       2017           1"
      ]
     },
     "execution_count": 20,
     "metadata": {},
     "output_type": "execute_result"
    }
   ],
   "source": [
    "resale_map_df.head()"
   ]
  },
  {
   "cell_type": "code",
   "execution_count": null,
   "metadata": {},
   "outputs": [],
   "source": [
    "resale_df.to_csv('data/resale_df_geocode.csv', index=False)"
   ]
  },
  {
   "attachments": {},
   "cell_type": "markdown",
   "metadata": {},
   "source": [
    "## MRT Stations"
   ]
  },
  {
   "cell_type": "code",
   "execution_count": 21,
   "metadata": {},
   "outputs": [],
   "source": [
    "mrt_df = pd.read_csv('data\\mrt_stations.csv').query('is_active == \"Y\"')\n",
    "mrt_df['commence_date'] = pd.to_datetime(mrt_df['commence_date'], format='%Y-%m-%d')"
   ]
  },
  {
   "cell_type": "code",
   "execution_count": 22,
   "metadata": {},
   "outputs": [
    {
     "data": {
      "text/html": [
       "<div>\n",
       "<style scoped>\n",
       "    .dataframe tbody tr th:only-of-type {\n",
       "        vertical-align: middle;\n",
       "    }\n",
       "\n",
       "    .dataframe tbody tr th {\n",
       "        vertical-align: top;\n",
       "    }\n",
       "\n",
       "    .dataframe thead th {\n",
       "        text-align: right;\n",
       "    }\n",
       "</style>\n",
       "<table border=\"1\" class=\"dataframe\">\n",
       "  <thead>\n",
       "    <tr style=\"text-align: right;\">\n",
       "      <th></th>\n",
       "      <th>stn_id</th>\n",
       "      <th>line_id</th>\n",
       "      <th>stn_name</th>\n",
       "      <th>commence_date</th>\n",
       "      <th>is_active</th>\n",
       "    </tr>\n",
       "  </thead>\n",
       "  <tbody>\n",
       "    <tr>\n",
       "      <th>0</th>\n",
       "      <td>BP1</td>\n",
       "      <td>BPLRT</td>\n",
       "      <td>CHOA CHU KANG LRT STATION</td>\n",
       "      <td>1999-11-06</td>\n",
       "      <td>Y</td>\n",
       "    </tr>\n",
       "    <tr>\n",
       "      <th>1</th>\n",
       "      <td>BP2</td>\n",
       "      <td>BPLRT</td>\n",
       "      <td>SOUTH VIEW LRT STATION</td>\n",
       "      <td>1999-11-06</td>\n",
       "      <td>Y</td>\n",
       "    </tr>\n",
       "    <tr>\n",
       "      <th>2</th>\n",
       "      <td>BP3</td>\n",
       "      <td>BPLRT</td>\n",
       "      <td>KEAT HONG LRT STATION</td>\n",
       "      <td>1999-11-06</td>\n",
       "      <td>Y</td>\n",
       "    </tr>\n",
       "    <tr>\n",
       "      <th>3</th>\n",
       "      <td>BP4</td>\n",
       "      <td>BPLRT</td>\n",
       "      <td>TECK WHYE LRT STATION</td>\n",
       "      <td>1999-11-06</td>\n",
       "      <td>Y</td>\n",
       "    </tr>\n",
       "    <tr>\n",
       "      <th>4</th>\n",
       "      <td>BP5</td>\n",
       "      <td>BPLRT</td>\n",
       "      <td>PHOENIX LRT STATION</td>\n",
       "      <td>1999-11-06</td>\n",
       "      <td>Y</td>\n",
       "    </tr>\n",
       "  </tbody>\n",
       "</table>\n",
       "</div>"
      ],
      "text/plain": [
       "  stn_id line_id                   stn_name commence_date is_active\n",
       "0    BP1   BPLRT  CHOA CHU KANG LRT STATION    1999-11-06         Y\n",
       "1    BP2   BPLRT     SOUTH VIEW LRT STATION    1999-11-06         Y\n",
       "2    BP3   BPLRT      KEAT HONG LRT STATION    1999-11-06         Y\n",
       "3    BP4   BPLRT      TECK WHYE LRT STATION    1999-11-06         Y\n",
       "4    BP5   BPLRT        PHOENIX LRT STATION    1999-11-06         Y"
      ]
     },
     "execution_count": 22,
     "metadata": {},
     "output_type": "execute_result"
    }
   ],
   "source": [
    "mrt_df.head()"
   ]
  },
  {
   "attachments": {},
   "cell_type": "markdown",
   "metadata": {},
   "source": [
    "Geocoding MRT stations"
   ]
  },
  {
   "cell_type": "code",
   "execution_count": 24,
   "metadata": {},
   "outputs": [
    {
     "data": {
      "application/vnd.jupyter.widget-view+json": {
       "model_id": "eab28a225ca64aa2b0b98fd3488b3381",
       "version_major": 2,
       "version_minor": 0
      },
      "text/plain": [
       "Geoding Addresses:   0%|          | 0/175 [00:00<?, ?it/s]"
      ]
     },
     "metadata": {},
     "output_type": "display_data"
    },
    {
     "name": "stdout",
     "output_type": "stream",
     "text": [
      "All passed\n"
     ]
    }
   ],
   "source": [
    "mrt_names = mrt_df['stn_name'].unique()\n",
    "mrt_coord = geocode_series(mrt_names, onemap_geocoding)\n",
    "mrt_coord_df = pd.DataFrame(mrt_coord, columns = ['stn_name', 'latitude', 'longitude'])\n",
    "mrt_coord_df[['latitude', 'longitude']] = mrt_coord_df[['latitude', 'longitude']].astype(float)\n",
    "mrt_coord_df = mrt_df.merge(right=mrt_coord_df, on='stn_name', how='left')"
   ]
  },
  {
   "cell_type": "code",
   "execution_count": 26,
   "metadata": {},
   "outputs": [
    {
     "data": {
      "text/plain": [
       "stn_id           0\n",
       "line_id          0\n",
       "stn_name         0\n",
       "commence_date    0\n",
       "is_active        0\n",
       "latitude         0\n",
       "longitude        0\n",
       "dtype: int64"
      ]
     },
     "execution_count": 26,
     "metadata": {},
     "output_type": "execute_result"
    }
   ],
   "source": [
    "none_check = mrt_coord_df.isnull().sum()\n",
    "none_check"
   ]
  },
  {
   "cell_type": "code",
   "execution_count": 29,
   "metadata": {},
   "outputs": [
    {
     "data": {
      "text/html": [
       "<div>\n",
       "<style scoped>\n",
       "    .dataframe tbody tr th:only-of-type {\n",
       "        vertical-align: middle;\n",
       "    }\n",
       "\n",
       "    .dataframe tbody tr th {\n",
       "        vertical-align: top;\n",
       "    }\n",
       "\n",
       "    .dataframe thead th {\n",
       "        text-align: right;\n",
       "    }\n",
       "</style>\n",
       "<table border=\"1\" class=\"dataframe\">\n",
       "  <thead>\n",
       "    <tr style=\"text-align: right;\">\n",
       "      <th></th>\n",
       "      <th>stn_name</th>\n",
       "      <th>latitude</th>\n",
       "      <th>longitude</th>\n",
       "      <th>commence_date</th>\n",
       "    </tr>\n",
       "  </thead>\n",
       "  <tbody>\n",
       "    <tr>\n",
       "      <th>0</th>\n",
       "      <td>CHOA CHU KANG LRT STATION</td>\n",
       "      <td>1.384755</td>\n",
       "      <td>103.744538</td>\n",
       "      <td>1999-11-06</td>\n",
       "    </tr>\n",
       "    <tr>\n",
       "      <th>1</th>\n",
       "      <td>SOUTH VIEW LRT STATION</td>\n",
       "      <td>1.380298</td>\n",
       "      <td>103.745292</td>\n",
       "      <td>1999-11-06</td>\n",
       "    </tr>\n",
       "    <tr>\n",
       "      <th>2</th>\n",
       "      <td>KEAT HONG LRT STATION</td>\n",
       "      <td>1.378603</td>\n",
       "      <td>103.749056</td>\n",
       "      <td>1999-11-06</td>\n",
       "    </tr>\n",
       "    <tr>\n",
       "      <th>3</th>\n",
       "      <td>TECK WHYE LRT STATION</td>\n",
       "      <td>1.376685</td>\n",
       "      <td>103.753712</td>\n",
       "      <td>1999-11-06</td>\n",
       "    </tr>\n",
       "    <tr>\n",
       "      <th>4</th>\n",
       "      <td>PHOENIX LRT STATION</td>\n",
       "      <td>1.378615</td>\n",
       "      <td>103.757996</td>\n",
       "      <td>1999-11-06</td>\n",
       "    </tr>\n",
       "    <tr>\n",
       "      <th>...</th>\n",
       "      <td>...</td>\n",
       "      <td>...</td>\n",
       "      <td>...</td>\n",
       "      <td>...</td>\n",
       "    </tr>\n",
       "    <tr>\n",
       "      <th>198</th>\n",
       "      <td>OUTRAM PARK MRT STATION</td>\n",
       "      <td>1.279740</td>\n",
       "      <td>103.839514</td>\n",
       "      <td>2022-11-13</td>\n",
       "    </tr>\n",
       "    <tr>\n",
       "      <th>199</th>\n",
       "      <td>MAXWELL MRT STATION</td>\n",
       "      <td>1.280533</td>\n",
       "      <td>103.843884</td>\n",
       "      <td>2022-11-13</td>\n",
       "    </tr>\n",
       "    <tr>\n",
       "      <th>200</th>\n",
       "      <td>SHENTON WAY MRT STATION</td>\n",
       "      <td>1.277717</td>\n",
       "      <td>103.850368</td>\n",
       "      <td>2022-11-13</td>\n",
       "    </tr>\n",
       "    <tr>\n",
       "      <th>201</th>\n",
       "      <td>MARINA BAY MRT STATION</td>\n",
       "      <td>1.276427</td>\n",
       "      <td>103.854598</td>\n",
       "      <td>2022-11-13</td>\n",
       "    </tr>\n",
       "    <tr>\n",
       "      <th>202</th>\n",
       "      <td>GARDENS BY THE BAY MRT STATION</td>\n",
       "      <td>1.278487</td>\n",
       "      <td>103.867455</td>\n",
       "      <td>2022-11-13</td>\n",
       "    </tr>\n",
       "  </tbody>\n",
       "</table>\n",
       "<p>203 rows × 4 columns</p>\n",
       "</div>"
      ],
      "text/plain": [
       "                           stn_name  latitude   longitude commence_date\n",
       "0         CHOA CHU KANG LRT STATION  1.384755  103.744538    1999-11-06\n",
       "1            SOUTH VIEW LRT STATION  1.380298  103.745292    1999-11-06\n",
       "2             KEAT HONG LRT STATION  1.378603  103.749056    1999-11-06\n",
       "3             TECK WHYE LRT STATION  1.376685  103.753712    1999-11-06\n",
       "4               PHOENIX LRT STATION  1.378615  103.757996    1999-11-06\n",
       "..                              ...       ...         ...           ...\n",
       "198         OUTRAM PARK MRT STATION  1.279740  103.839514    2022-11-13\n",
       "199             MAXWELL MRT STATION  1.280533  103.843884    2022-11-13\n",
       "200         SHENTON WAY MRT STATION  1.277717  103.850368    2022-11-13\n",
       "201          MARINA BAY MRT STATION  1.276427  103.854598    2022-11-13\n",
       "202  GARDENS BY THE BAY MRT STATION  1.278487  103.867455    2022-11-13\n",
       "\n",
       "[203 rows x 4 columns]"
      ]
     },
     "execution_count": 29,
     "metadata": {},
     "output_type": "execute_result"
    }
   ],
   "source": [
    "mrt_coord_df_test = mrt_coord_df[['stn_name', 'latitude', 'longitude', 'commence_date']]\n",
    "mrt_coord_df_test"
   ]
  },
  {
   "cell_type": "code",
   "execution_count": 40,
   "metadata": {},
   "outputs": [
    {
     "data": {
      "text/plain": [
       "'BP2'"
      ]
     },
     "execution_count": 40,
     "metadata": {},
     "output_type": "execute_result"
    }
   ],
   "source": [
    "mrt_coord_df.iloc[1,0]"
   ]
  },
  {
   "cell_type": "code",
   "execution_count": 129,
   "metadata": {},
   "outputs": [
    {
     "data": {
      "application/vnd.jupyter.widget-view+json": {
       "model_id": "630fb5d1878e41bb9ecb579b3861f608",
       "version_major": 2,
       "version_minor": 0
      },
      "text/plain": [
       "Feature Distance Calculation:   0%|          | 0/203 [00:00<?, ?it/s]"
      ]
     },
     "metadata": {},
     "output_type": "display_data"
    }
   ],
   "source": [
    "mrt_dist_df = calculate_dist(resale_map_df, mrt_coord_df_test, date_check='commence_date')"
   ]
  },
  {
   "cell_type": "code",
   "execution_count": null,
   "metadata": {},
   "outputs": [
    {
     "data": {
      "text/html": [
       "<div>\n",
       "<style scoped>\n",
       "    .dataframe tbody tr th:only-of-type {\n",
       "        vertical-align: middle;\n",
       "    }\n",
       "\n",
       "    .dataframe tbody tr th {\n",
       "        vertical-align: top;\n",
       "    }\n",
       "\n",
       "    .dataframe thead th {\n",
       "        text-align: right;\n",
       "    }\n",
       "</style>\n",
       "<table border=\"1\" class=\"dataframe\">\n",
       "  <thead>\n",
       "    <tr style=\"text-align: right;\">\n",
       "      <th></th>\n",
       "      <th>address</th>\n",
       "      <th>0</th>\n",
       "      <th>1</th>\n",
       "    </tr>\n",
       "  </thead>\n",
       "  <tbody>\n",
       "    <tr>\n",
       "      <th>0</th>\n",
       "      <td>406 ANG MO KIO AVENUE 10</td>\n",
       "      <td>ANG MO KIO MRT STATION</td>\n",
       "      <td>0.957337</td>\n",
       "    </tr>\n",
       "    <tr>\n",
       "      <th>1</th>\n",
       "      <td>108 ANG MO KIO AVENUE 4</td>\n",
       "      <td>ANG MO KIO MRT STATION</td>\n",
       "      <td>1.288919</td>\n",
       "    </tr>\n",
       "    <tr>\n",
       "      <th>2</th>\n",
       "      <td>602 ANG MO KIO AVENUE 5</td>\n",
       "      <td>YIO CHU KANG MRT STATION</td>\n",
       "      <td>1.076611</td>\n",
       "    </tr>\n",
       "    <tr>\n",
       "      <th>3</th>\n",
       "      <td>465 ANG MO KIO AVENUE 10</td>\n",
       "      <td>ANG MO KIO MRT STATION</td>\n",
       "      <td>0.933192</td>\n",
       "    </tr>\n",
       "    <tr>\n",
       "      <th>4</th>\n",
       "      <td>601 ANG MO KIO AVENUE 5</td>\n",
       "      <td>YIO CHU KANG MRT STATION</td>\n",
       "      <td>1.099826</td>\n",
       "    </tr>\n",
       "    <tr>\n",
       "      <th>...</th>\n",
       "      <td>...</td>\n",
       "      <td>...</td>\n",
       "      <td>...</td>\n",
       "    </tr>\n",
       "    <tr>\n",
       "      <th>155075</th>\n",
       "      <td>291 YISHUN STREET 22</td>\n",
       "      <td>YISHUN MRT STATION</td>\n",
       "      <td>0.724306</td>\n",
       "    </tr>\n",
       "    <tr>\n",
       "      <th>155076</th>\n",
       "      <td>513B YISHUN STREET 51</td>\n",
       "      <td>KHATIB MRT STATION</td>\n",
       "      <td>1.201740</td>\n",
       "    </tr>\n",
       "    <tr>\n",
       "      <th>155077</th>\n",
       "      <td>511B YISHUN STREET 51</td>\n",
       "      <td>KHATIB MRT STATION</td>\n",
       "      <td>1.068567</td>\n",
       "    </tr>\n",
       "    <tr>\n",
       "      <th>155078</th>\n",
       "      <td>791 YISHUN AVENUE 2</td>\n",
       "      <td>KHATIB MRT STATION</td>\n",
       "      <td>0.352857</td>\n",
       "    </tr>\n",
       "    <tr>\n",
       "      <th>155079</th>\n",
       "      <td>356 YISHUN RING ROAD</td>\n",
       "      <td>YISHUN MRT STATION</td>\n",
       "      <td>1.249891</td>\n",
       "    </tr>\n",
       "  </tbody>\n",
       "</table>\n",
       "<p>155080 rows × 3 columns</p>\n",
       "</div>"
      ],
      "text/plain": [
       "                         address                         0         1\n",
       "0       406 ANG MO KIO AVENUE 10    ANG MO KIO MRT STATION  0.957337\n",
       "1        108 ANG MO KIO AVENUE 4    ANG MO KIO MRT STATION  1.288919\n",
       "2        602 ANG MO KIO AVENUE 5  YIO CHU KANG MRT STATION  1.076611\n",
       "3       465 ANG MO KIO AVENUE 10    ANG MO KIO MRT STATION  0.933192\n",
       "4        601 ANG MO KIO AVENUE 5  YIO CHU KANG MRT STATION  1.099826\n",
       "...                          ...                       ...       ...\n",
       "155075      291 YISHUN STREET 22        YISHUN MRT STATION  0.724306\n",
       "155076     513B YISHUN STREET 51        KHATIB MRT STATION  1.201740\n",
       "155077     511B YISHUN STREET 51        KHATIB MRT STATION  1.068567\n",
       "155078       791 YISHUN AVENUE 2        KHATIB MRT STATION  0.352857\n",
       "155079      356 YISHUN RING ROAD        YISHUN MRT STATION  1.249891\n",
       "\n",
       "[155080 rows x 3 columns]"
      ]
     },
     "execution_count": 124,
     "metadata": {},
     "output_type": "execute_result"
    }
   ],
   "source": [
    "mrt_dist_df[0,1]"
   ]
  },
  {
   "cell_type": "code",
   "execution_count": null,
   "metadata": {},
   "outputs": [],
   "source": []
  }
 ],
 "metadata": {
  "kernelspec": {
   "display_name": "Python 3",
   "language": "python",
   "name": "python3"
  },
  "language_info": {
   "codemirror_mode": {
    "name": "ipython",
    "version": 3
   },
   "file_extension": ".py",
   "mimetype": "text/x-python",
   "name": "python",
   "nbconvert_exporter": "python",
   "pygments_lexer": "ipython3",
   "version": "3.11.4"
  },
  "orig_nbformat": 4
 },
 "nbformat": 4,
 "nbformat_minor": 2
}
