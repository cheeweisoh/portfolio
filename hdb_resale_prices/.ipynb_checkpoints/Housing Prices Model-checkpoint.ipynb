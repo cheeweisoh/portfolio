{
 "cells": [
  {
   "cell_type": "markdown",
   "id": "eee96e56-eadc-41c7-9c05-c088fe6b9322",
   "metadata": {
    "tags": []
   },
   "source": [
    "# Predicting HDB Resale Prices in Singapore III\n",
    "\n",
    "## Model Building\n",
    "In this part, we will use our final dataset to build models to predict existing resale prices."
   ]
  },
  {
   "cell_type": "markdown",
   "id": "f14907f7-39d8-4e3a-9033-cb6836851d4b",
   "metadata": {},
   "source": [
    "---"
   ]
  },
  {
   "cell_type": "markdown",
   "id": "d1624b82-8219-4d0d-b53a-20f879bf988b",
   "metadata": {},
   "source": [
    "### Importing Necessary Packages\n",
    "\n",
    "In this part, we will be using standardisation and feature encoding to prepare our features for model building. We will also be building pipelines using the scikit-learn library and using various supervised learning techniques to build models."
   ]
  },
  {
   "cell_type": "code",
   "execution_count": 30,
   "id": "664e4a54-1ff4-4714-9b1f-25f01002e96d",
   "metadata": {},
   "outputs": [],
   "source": [
    "# Importing necessary packages\n",
    "\n",
    "import pandas as pd\n",
    "import numpy as np\n",
    "import scipy.stats as stat\n",
    "import pylab\n",
    "from matplotlib import pyplot as plt\n",
    "import seaborn as sns\n",
    "from sklearn.preprocessing import StandardScaler, OneHotEncoder, FunctionTransformer\n",
    "from sklearn.model_selection import train_test_split\n",
    "from sklearn.compose import make_column_transformer\n",
    "from sklearn.pipeline import Pipeline\n",
    "from sklearn_pandas import DataFrameMapper\n",
    "from sklearn.metrics import mean_squared_error\n",
    "from sklearn.metrics import mean_absolute_error\n",
    "from sklearn.metrics import mean_squared_error\n",
    "import pickle\n",
    "\n",
    "\n",
    "from sklearn.model_selection import RandomizedSearchCV\n",
    "from sklearn.linear_model import LinearRegression\n",
    "from sklearn.linear_model import RidgeCV\n",
    "from sklearn.ensemble import RandomForestRegressor\n",
    "from xgboost import XGBRegressor\n",
    "\n",
    "pd.set_option(\"display.max_columns\", None)"
   ]
  },
  {
   "cell_type": "code",
   "execution_count": 2,
   "id": "fdf4e34e-9282-4647-9773-8badc8d52c2d",
   "metadata": {},
   "outputs": [],
   "source": [
    "# Importing dataset\n",
    "\n",
    "resale_df = pd.read_csv('data/resale_prices_final.csv')"
   ]
  },
  {
   "cell_type": "code",
   "execution_count": 3,
   "id": "7ec4a312-01da-46a4-a88a-f83bb8d4c313",
   "metadata": {},
   "outputs": [
    {
     "data": {
      "text/html": [
       "<div>\n",
       "<style scoped>\n",
       "    .dataframe tbody tr th:only-of-type {\n",
       "        vertical-align: middle;\n",
       "    }\n",
       "\n",
       "    .dataframe tbody tr th {\n",
       "        vertical-align: top;\n",
       "    }\n",
       "\n",
       "    .dataframe thead th {\n",
       "        text-align: right;\n",
       "    }\n",
       "</style>\n",
       "<table border=\"1\" class=\"dataframe\">\n",
       "  <thead>\n",
       "    <tr style=\"text-align: right;\">\n",
       "      <th></th>\n",
       "      <th>town</th>\n",
       "      <th>flat_type</th>\n",
       "      <th>flat_model</th>\n",
       "      <th>floor_area_sqm</th>\n",
       "      <th>street_name</th>\n",
       "      <th>resale_price</th>\n",
       "      <th>month</th>\n",
       "      <th>remaining_lease</th>\n",
       "      <th>lease_commence_date</th>\n",
       "      <th>storey_range</th>\n",
       "      <th>_id</th>\n",
       "      <th>block</th>\n",
       "      <th>address</th>\n",
       "      <th>r_address</th>\n",
       "      <th>latitude</th>\n",
       "      <th>longitude</th>\n",
       "      <th>nearest_mrt</th>\n",
       "      <th>nearest_mrt_dist</th>\n",
       "      <th>nearest_pri_sch</th>\n",
       "      <th>nearest_pri_sch_dist</th>\n",
       "      <th>nearest_sec_sch</th>\n",
       "      <th>nearest_sec_sch_dist</th>\n",
       "      <th>nearest_mall</th>\n",
       "      <th>nearest_mall_dist</th>\n",
       "      <th>quarter</th>\n",
       "      <th>inflation_price</th>\n",
       "      <th>lease_deci</th>\n",
       "      <th>mid_storey</th>\n",
       "    </tr>\n",
       "  </thead>\n",
       "  <tbody>\n",
       "    <tr>\n",
       "      <th>0</th>\n",
       "      <td>ANG MO KIO</td>\n",
       "      <td>2 ROOM</td>\n",
       "      <td>Improved</td>\n",
       "      <td>44.0</td>\n",
       "      <td>ANG MO KIO AVE 10</td>\n",
       "      <td>232000.0</td>\n",
       "      <td>2017-01</td>\n",
       "      <td>61 years 04 months</td>\n",
       "      <td>1979</td>\n",
       "      <td>10 TO 12</td>\n",
       "      <td>1</td>\n",
       "      <td>406</td>\n",
       "      <td>406 ANG MO KIO AVENUE 10</td>\n",
       "      <td>406 ANG MO KIO AVENUE 10</td>\n",
       "      <td>1.362005</td>\n",
       "      <td>103.853880</td>\n",
       "      <td>ANG MO KIO MRT STATION</td>\n",
       "      <td>1.000002</td>\n",
       "      <td>TOWNSVILLE PRIMARY SCHOOL</td>\n",
       "      <td>0.218124</td>\n",
       "      <td>DEYI SECONDARY SCHOOL</td>\n",
       "      <td>0.465777</td>\n",
       "      <td>AMK Hub</td>\n",
       "      <td>1.014089</td>\n",
       "      <td>2017Q1</td>\n",
       "      <td>253657.953698</td>\n",
       "      <td>61.333333</td>\n",
       "      <td>11</td>\n",
       "    </tr>\n",
       "    <tr>\n",
       "      <th>1</th>\n",
       "      <td>ANG MO KIO</td>\n",
       "      <td>3 ROOM</td>\n",
       "      <td>New Generation</td>\n",
       "      <td>67.0</td>\n",
       "      <td>ANG MO KIO AVE 4</td>\n",
       "      <td>250000.0</td>\n",
       "      <td>2017-01</td>\n",
       "      <td>60 years 07 months</td>\n",
       "      <td>1978</td>\n",
       "      <td>01 TO 03</td>\n",
       "      <td>2</td>\n",
       "      <td>108</td>\n",
       "      <td>108 ANG MO KIO AVENUE 4</td>\n",
       "      <td>108 ANG MO KIO AVENUE 4</td>\n",
       "      <td>1.370966</td>\n",
       "      <td>103.838202</td>\n",
       "      <td>MAYFLOWER MRT STATION</td>\n",
       "      <td>0.190030</td>\n",
       "      <td>ANG MO KIO PRIMARY SCHOOL</td>\n",
       "      <td>0.241601</td>\n",
       "      <td>MAYFLOWER SECONDARY SCHOOL</td>\n",
       "      <td>0.434455</td>\n",
       "      <td>Broadway Plaza</td>\n",
       "      <td>0.869109</td>\n",
       "      <td>2017Q1</td>\n",
       "      <td>273338.312175</td>\n",
       "      <td>60.583333</td>\n",
       "      <td>2</td>\n",
       "    </tr>\n",
       "    <tr>\n",
       "      <th>2</th>\n",
       "      <td>ANG MO KIO</td>\n",
       "      <td>3 ROOM</td>\n",
       "      <td>New Generation</td>\n",
       "      <td>67.0</td>\n",
       "      <td>ANG MO KIO AVE 5</td>\n",
       "      <td>262000.0</td>\n",
       "      <td>2017-01</td>\n",
       "      <td>62 years 05 months</td>\n",
       "      <td>1980</td>\n",
       "      <td>01 TO 03</td>\n",
       "      <td>3</td>\n",
       "      <td>602</td>\n",
       "      <td>602 ANG MO KIO AVENUE 5</td>\n",
       "      <td>602 ANG MO KIO AVENUE 5</td>\n",
       "      <td>1.380709</td>\n",
       "      <td>103.835368</td>\n",
       "      <td>LENTOR MRT STATION</td>\n",
       "      <td>0.532151</td>\n",
       "      <td>MAYFLOWER PRIMARY SCHOOL</td>\n",
       "      <td>0.506847</td>\n",
       "      <td>PRESBYTERIAN HIGH SCHOOL</td>\n",
       "      <td>0.789393</td>\n",
       "      <td>Broadway Plaza</td>\n",
       "      <td>1.525833</td>\n",
       "      <td>2017Q1</td>\n",
       "      <td>286458.551159</td>\n",
       "      <td>62.416667</td>\n",
       "      <td>2</td>\n",
       "    </tr>\n",
       "    <tr>\n",
       "      <th>3</th>\n",
       "      <td>ANG MO KIO</td>\n",
       "      <td>3 ROOM</td>\n",
       "      <td>New Generation</td>\n",
       "      <td>68.0</td>\n",
       "      <td>ANG MO KIO AVE 10</td>\n",
       "      <td>265000.0</td>\n",
       "      <td>2017-01</td>\n",
       "      <td>62 years 01 month</td>\n",
       "      <td>1980</td>\n",
       "      <td>04 TO 06</td>\n",
       "      <td>4</td>\n",
       "      <td>465</td>\n",
       "      <td>465 ANG MO KIO AVENUE 10</td>\n",
       "      <td>465 ANG MO KIO AVENUE 10</td>\n",
       "      <td>1.366201</td>\n",
       "      <td>103.857201</td>\n",
       "      <td>ANG MO KIO MRT STATION</td>\n",
       "      <td>0.945591</td>\n",
       "      <td>TECK GHEE PRIMARY SCHOOL</td>\n",
       "      <td>0.691887</td>\n",
       "      <td>DEYI SECONDARY SCHOOL</td>\n",
       "      <td>0.518707</td>\n",
       "      <td>myVillage At Serangoon Garden</td>\n",
       "      <td>0.894047</td>\n",
       "      <td>2017Q1</td>\n",
       "      <td>289738.610906</td>\n",
       "      <td>62.083333</td>\n",
       "      <td>5</td>\n",
       "    </tr>\n",
       "    <tr>\n",
       "      <th>4</th>\n",
       "      <td>ANG MO KIO</td>\n",
       "      <td>3 ROOM</td>\n",
       "      <td>New Generation</td>\n",
       "      <td>67.0</td>\n",
       "      <td>ANG MO KIO AVE 5</td>\n",
       "      <td>265000.0</td>\n",
       "      <td>2017-01</td>\n",
       "      <td>62 years 05 months</td>\n",
       "      <td>1980</td>\n",
       "      <td>01 TO 03</td>\n",
       "      <td>5</td>\n",
       "      <td>601</td>\n",
       "      <td>601 ANG MO KIO AVENUE 5</td>\n",
       "      <td>601 ANG MO KIO AVENUE 5</td>\n",
       "      <td>1.381041</td>\n",
       "      <td>103.835132</td>\n",
       "      <td>LENTOR MRT STATION</td>\n",
       "      <td>0.498418</td>\n",
       "      <td>MAYFLOWER PRIMARY SCHOOL</td>\n",
       "      <td>0.546442</td>\n",
       "      <td>PRESBYTERIAN HIGH SCHOOL</td>\n",
       "      <td>0.811047</td>\n",
       "      <td>Broadway Plaza</td>\n",
       "      <td>1.569570</td>\n",
       "      <td>2017Q1</td>\n",
       "      <td>289738.610906</td>\n",
       "      <td>62.416667</td>\n",
       "      <td>2</td>\n",
       "    </tr>\n",
       "  </tbody>\n",
       "</table>\n",
       "</div>"
      ],
      "text/plain": [
       "         town flat_type      flat_model  floor_area_sqm        street_name  \\\n",
       "0  ANG MO KIO    2 ROOM        Improved            44.0  ANG MO KIO AVE 10   \n",
       "1  ANG MO KIO    3 ROOM  New Generation            67.0   ANG MO KIO AVE 4   \n",
       "2  ANG MO KIO    3 ROOM  New Generation            67.0   ANG MO KIO AVE 5   \n",
       "3  ANG MO KIO    3 ROOM  New Generation            68.0  ANG MO KIO AVE 10   \n",
       "4  ANG MO KIO    3 ROOM  New Generation            67.0   ANG MO KIO AVE 5   \n",
       "\n",
       "   resale_price    month     remaining_lease  lease_commence_date  \\\n",
       "0      232000.0  2017-01  61 years 04 months                 1979   \n",
       "1      250000.0  2017-01  60 years 07 months                 1978   \n",
       "2      262000.0  2017-01  62 years 05 months                 1980   \n",
       "3      265000.0  2017-01   62 years 01 month                 1980   \n",
       "4      265000.0  2017-01  62 years 05 months                 1980   \n",
       "\n",
       "  storey_range  _id block                   address                 r_address  \\\n",
       "0     10 TO 12    1   406  406 ANG MO KIO AVENUE 10  406 ANG MO KIO AVENUE 10   \n",
       "1     01 TO 03    2   108   108 ANG MO KIO AVENUE 4   108 ANG MO KIO AVENUE 4   \n",
       "2     01 TO 03    3   602   602 ANG MO KIO AVENUE 5   602 ANG MO KIO AVENUE 5   \n",
       "3     04 TO 06    4   465  465 ANG MO KIO AVENUE 10  465 ANG MO KIO AVENUE 10   \n",
       "4     01 TO 03    5   601   601 ANG MO KIO AVENUE 5   601 ANG MO KIO AVENUE 5   \n",
       "\n",
       "   latitude   longitude             nearest_mrt  nearest_mrt_dist  \\\n",
       "0  1.362005  103.853880  ANG MO KIO MRT STATION          1.000002   \n",
       "1  1.370966  103.838202   MAYFLOWER MRT STATION          0.190030   \n",
       "2  1.380709  103.835368      LENTOR MRT STATION          0.532151   \n",
       "3  1.366201  103.857201  ANG MO KIO MRT STATION          0.945591   \n",
       "4  1.381041  103.835132      LENTOR MRT STATION          0.498418   \n",
       "\n",
       "             nearest_pri_sch  nearest_pri_sch_dist  \\\n",
       "0  TOWNSVILLE PRIMARY SCHOOL              0.218124   \n",
       "1  ANG MO KIO PRIMARY SCHOOL              0.241601   \n",
       "2   MAYFLOWER PRIMARY SCHOOL              0.506847   \n",
       "3   TECK GHEE PRIMARY SCHOOL              0.691887   \n",
       "4   MAYFLOWER PRIMARY SCHOOL              0.546442   \n",
       "\n",
       "              nearest_sec_sch  nearest_sec_sch_dist  \\\n",
       "0       DEYI SECONDARY SCHOOL              0.465777   \n",
       "1  MAYFLOWER SECONDARY SCHOOL              0.434455   \n",
       "2    PRESBYTERIAN HIGH SCHOOL              0.789393   \n",
       "3       DEYI SECONDARY SCHOOL              0.518707   \n",
       "4    PRESBYTERIAN HIGH SCHOOL              0.811047   \n",
       "\n",
       "                    nearest_mall  nearest_mall_dist quarter  inflation_price  \\\n",
       "0                        AMK Hub           1.014089  2017Q1    253657.953698   \n",
       "1                 Broadway Plaza           0.869109  2017Q1    273338.312175   \n",
       "2                 Broadway Plaza           1.525833  2017Q1    286458.551159   \n",
       "3  myVillage At Serangoon Garden           0.894047  2017Q1    289738.610906   \n",
       "4                 Broadway Plaza           1.569570  2017Q1    289738.610906   \n",
       "\n",
       "   lease_deci  mid_storey  \n",
       "0   61.333333          11  \n",
       "1   60.583333           2  \n",
       "2   62.416667           2  \n",
       "3   62.083333           5  \n",
       "4   62.416667           2  "
      ]
     },
     "execution_count": 3,
     "metadata": {},
     "output_type": "execute_result"
    }
   ],
   "source": [
    "# Examining dataset\n",
    "\n",
    "resale_df.head()"
   ]
  },
  {
   "cell_type": "markdown",
   "id": "6a363086-f9ad-4a21-8db7-b375d66e4b65",
   "metadata": {},
   "source": [
    "---"
   ]
  },
  {
   "cell_type": "markdown",
   "id": "cb9eaaf5-418d-4419-93fc-f82cf6f070fd",
   "metadata": {},
   "source": [
    "### Examining Distribution of Features\n",
    "\n",
    "Before we begin model building, it is important to examine the distribution of our data. Data that is skewed can have negative effects on the accuracy of models, and should be addressed before models trained with the data. One way we could examine whether data is skewed is using a quantile-quantile (QQ) plot.\n",
    "\n",
    "For the resale price, we can see that the data is skewed towards the right. We can confirm this by calculating the median and mean values, and confirming that the median is smaller than the mean. This would indicate that some Gaussian transformation needs to be applied to the data. Here, we choose to apply the Log Transformation on our resale price data. After the transformation, we can see from the QQ plot that the data is more normally distributed."
   ]
  },
  {
   "cell_type": "code",
   "execution_count": 4,
   "id": "ed252689-cf85-4a77-83ca-b575ed709182",
   "metadata": {},
   "outputs": [],
   "source": [
    "# Separating features used for model building\n",
    "\n",
    "continuous_features = ['floor_area_sqm', 'nearest_mrt_dist', 'nearest_pri_sch_dist', 'nearest_sec_sch_dist', 'nearest_mall_dist', 'lease_deci']\n",
    "categorical_features = ['town', 'flat_type', 'flat_model', 'mid_storey']"
   ]
  },
  {
   "cell_type": "code",
   "execution_count": 5,
   "id": "5611480b-9875-4f40-8146-6187c4ace161",
   "metadata": {},
   "outputs": [],
   "source": [
    "# Function to plot histogram and QQ plot of feature\n",
    "\n",
    "def plot_data(df, feature, method):\n",
    "    plt.subplot(1,2,1)\n",
    "    df[feature].hist()\n",
    "    plt.subplot(1,2,2)\n",
    "    stat.probplot(df[feature], dist='norm', plot=pylab)\n",
    "    plt.title(method)\n",
    "    plt.tight_layout()\n",
    "    plt.show()"
   ]
  },
  {
   "cell_type": "code",
   "execution_count": 13,
   "id": "cc6d26e7-1f33-4e43-af5a-a1bfabc0ae12",
   "metadata": {},
   "outputs": [
    {
     "data": {
      "image/png": "[encoded data removed]",
      "text/plain": [
       "<Figure size 640x480 with 2 Axes>"
      ]
     },
     "metadata": {},
     "output_type": "display_data"
    },
    {
     "name": "stdout",
     "output_type": "stream",
     "text": [
      "Median Resale Price: 459895.287978\n",
      "Mean Resale Price: 492537.5479026215\n"
     ]
    }
   ],
   "source": [
    "# Examining distribution of inflation price (dependent variable)\n",
    "\n",
    "plot_data(resale_df, 'inflation_price', 'Resale Price')\n",
    "print('Median Resale Price: {}'.format(resale_df.inflation_price.median()))\n",
    "print('Mean Resale Price: {}'.format(resale_df.inflation_price.mean()))"
   ]
  },
  {
   "cell_type": "code",
   "execution_count": 14,
   "id": "02f87cd2-4d0e-4108-9e71-a5fa1ac8f9f7",
   "metadata": {},
   "outputs": [
    {
     "data": {
      "image/png": "[encoded data removed]",
      "text/plain": [
       "<Figure size 640x480 with 2 Axes>"
      ]
     },
     "metadata": {},
     "output_type": "display_data"
    },
    {
     "name": "stdout",
     "output_type": "stream",
     "text": [
      "Median Resale Price: 13.038754107722102\n",
      "Mean Resale Price: 13.053236607105923\n"
     ]
    }
   ],
   "source": [
    "# Examining distribution of inflation price (dependent variable) after Log Transformation\n",
    "\n",
    "temp_df = resale_df.copy()\n",
    "temp_df['inflation_price'] = np.log1p(temp_df['inflation_price'])\n",
    "plot_data(temp_df, 'inflation_price', 'Log Resale Price')\n",
    "print('Median Resale Price: {}'.format(temp_df.inflation_price.median()))\n",
    "print('Mean Resale Price: {}'.format(temp_df.inflation_price.mean()))"
   ]
  },
  {
   "cell_type": "markdown",
   "id": "edbd8cf4-47ed-46e0-a94f-ff7ba936268d",
   "metadata": {},
   "source": [
    "---"
   ]
  },
  {
   "cell_type": "markdown",
   "id": "7bf002a2-bfce-4ca3-b399-f91252c3431b",
   "metadata": {},
   "source": [
    "### Obtaining Training and Testing Data\n",
    "\n",
    "We use the train_test_split function to split our dataset into a training set to train the model and a testing set to validate the accuracy of the model. "
   ]
  },
  {
   "cell_type": "code",
   "execution_count": 5,
   "id": "f823da2a-c9bd-4a55-a05f-9ed11be12aec",
   "metadata": {},
   "outputs": [],
   "source": [
    "# Train Test Split to obtain training and testing data. We set testing data to be 20% of total dataset.\n",
    "\n",
    "X = resale_df[continuous_features+categorical_features]\n",
    "y = np.log1p(resale_df['inflation_price'])\n",
    "X_train, X_test, y_train, y_test = train_test_split(X, y, test_size=0.2, random_state=42)"
   ]
  },
  {
   "cell_type": "markdown",
   "id": "854993eb-900f-4e52-8c76-37957be0f38c",
   "metadata": {},
   "source": [
    "---"
   ]
  },
  {
   "cell_type": "markdown",
   "id": "0fe032d3-d476-4ea0-b660-3fdade249ec6",
   "metadata": {},
   "source": [
    "### Linear Regression\n",
    "\n",
    "The first model we use to model resale prices is Linear Regression. For linear regression, we have to do some pre-processing to our features before we can apply the model. As with the other models later, we will use Scikit-learn's Pipeline to perform pre-processing and model fitting together. While not necessary, this makes our code for pre-processing and model fitting cleaner.\n",
    "\n",
    "For continuous features, we apply Log Transformation to normalise the feature, similar to what was done for resale price. We then scale the continuous variables using the StandardScaler. For the categorical variables, we apply OneHotEncoder to encode the categories into separate columns.\n",
    "\n",
    "We see that the model has a high R^2 of 0.91, meaning that around 91% of the variability in resale price can be explained by the features. It also has a low mean absolute error of 0.0773 and root mean squared error of 0.0096. That being said, without any other models for comparison for now, we cannot explicitly say that the linear regression is a good model to predict resale price."
   ]
  },
  {
   "cell_type": "code",
   "execution_count": 5,
   "id": "573bc5a1-900c-42b5-bfc7-32a2c79dbe7a",
   "metadata": {},
   "outputs": [],
   "source": [
    "# Initialising preprocessing steps for features\n",
    "\n",
    "transformer = FunctionTransformer(np.log1p, validate=False)\n",
    "\n",
    "mapper = DataFrameMapper([\n",
    "    (continuous_features, [transformer, StandardScaler()]),\n",
    "    (categorical_features, OneHotEncoder())], df_out=True)"
   ]
  },
  {
   "cell_type": "code",
   "execution_count": 12,
   "id": "9cedf453-cea4-475a-bc17-4d06ebd9d282",
   "metadata": {},
   "outputs": [
    {
     "data": {
      "text/plain": [
       "Pipeline(steps=[('preprocessing',\n",
       "                 DataFrameMapper(df_out=True, drop_cols=[],\n",
       "                                 features=[(['floor_area_sqm',\n",
       "                                             'nearest_mrt_dist',\n",
       "                                             'nearest_pri_sch_dist',\n",
       "                                             'nearest_sec_sch_dist',\n",
       "                                             'nearest_mall_dist',\n",
       "                                             'lease_deci'],\n",
       "                                            [FunctionTransformer(func=<ufunc 'log1p'>),\n",
       "                                             StandardScaler()]),\n",
       "                                           (['town', 'flat_type', 'flat_model',\n",
       "                                             'mid_storey'],\n",
       "                                            OneHotEncoder())])),\n",
       "                ('regressor', LinearRegression())])"
      ]
     },
     "execution_count": 12,
     "metadata": {},
     "output_type": "execute_result"
    }
   ],
   "source": [
    "# Building pipeline and training Linear Regression Model\n",
    "\n",
    "lr_pipeline = Pipeline(steps=[\n",
    "    ('preprocessing', mapper),\n",
    "    ('regressor', LinearRegression())])\n",
    "\n",
    "lr_pipeline.fit(X_train, y_train)"
   ]
  },
  {
   "cell_type": "code",
   "execution_count": 13,
   "id": "767744f3-79cc-423a-b832-2b684114a705",
   "metadata": {},
   "outputs": [
    {
     "name": "stdout",
     "output_type": "stream",
     "text": [
      "Linear Regression R^2: 0.9100122637032904\n",
      "Linear Regression MAE: 0.07731502570316141\n",
      "Linear Regression RMSE: 0.009617181842247916\n"
     ]
    }
   ],
   "source": [
    "# Examining model accuracy metrics\n",
    "\n",
    "print('Linear Regression R^2: {}'.format(lr_pipeline.score(X_test, y_test)))\n",
    "print('Linear Regression MAE: {}'.format(mean_absolute_error(y_test, lr_pipeline.predict(X_test))))\n",
    "print('Linear Regression RMSE: {}'.format(mean_squared_error(y_test, lr_pipeline.predict(X_test)), squared=False))"
   ]
  },
  {
   "cell_type": "markdown",
   "id": "d858e7f5-f4b9-429c-a555-fe3dc8d65bcb",
   "metadata": {},
   "source": [
    "### Ridge Regression\n",
    "\n",
    "An alternative linear model to consider would be Ridge Regression. Ridge Regression works in a similar way to Linear Regression; the difference being that higher slope values are penalised. This reduces overfitting as compared to the Linear Regression model. For the regressor, we use RidgeCV, which performs the cross validation in the regressor itself. For the pipeline, we do a similar treatment to the continuous and categorical variables as we did for Linear Regression.\n",
    "\n",
    "For Ridge Regression, we get an R^2 value of 0.91, with a mean absolute error of 0.077 and a root mean squared error of 0.0096. We notice that the results for the Ridge Regression are very similar to the Linear Regression model. This could be an indicator that our original Linear Regression model likely did not overfit the training data."
   ]
  },
  {
   "cell_type": "code",
   "execution_count": 18,
   "id": "f7e0c016-3cc3-4c73-be52-1d3922a39a52",
   "metadata": {},
   "outputs": [
    {
     "data": {
      "text/plain": [
       "Pipeline(steps=[('preprocessing',\n",
       "                 DataFrameMapper(df_out=True, drop_cols=[],\n",
       "                                 features=[(['floor_area_sqm',\n",
       "                                             'nearest_mrt_dist',\n",
       "                                             'nearest_pri_sch_dist',\n",
       "                                             'nearest_sec_sch_dist',\n",
       "                                             'nearest_mall_dist',\n",
       "                                             'lease_deci'],\n",
       "                                            [FunctionTransformer(func=<ufunc 'log1p'>),\n",
       "                                             StandardScaler()]),\n",
       "                                           (['town', 'flat_type', 'flat_model',\n",
       "                                             'mid_storey'],\n",
       "                                            OneHotEncoder())])),\n",
       "                ('regressor', RidgeCV(alphas=array([ 0.1,  1. , 10. ])))])"
      ]
     },
     "execution_count": 18,
     "metadata": {},
     "output_type": "execute_result"
    }
   ],
   "source": [
    "# Building pipeline for Ridge Regression model\n",
    "\n",
    "r_pipeline = Pipeline(steps=[\n",
    "    ('preprocessing', mapper),\n",
    "    ('regressor', RidgeCV())])\n",
    "\n",
    "r_pipeline.fit(X_train, y_train)"
   ]
  },
  {
   "cell_type": "code",
   "execution_count": 19,
   "id": "916fa958-5de5-4781-b68b-ffe3ac95c9b0",
   "metadata": {},
   "outputs": [
    {
     "name": "stdout",
     "output_type": "stream",
     "text": [
      "Ridge Regression R^2: 0.9100113301570217\n",
      "Ridge Regression MAE: 0.07731725659884622\n",
      "Ridge Regression RMSE: 0.009617281612334293\n"
     ]
    }
   ],
   "source": [
    "# Examining model accuracy metrics\n",
    "\n",
    "print('Ridge Regression R^2: {}'.format(r_pipeline.score(X_test, y_test)))\n",
    "print('Ridge Regression MAE: {}'.format(mean_absolute_error(y_test, r_pipeline.predict(X_test))))\n",
    "print('Ridge Regression RMSE: {}'.format(mean_squared_error(y_test, r_pipeline.predict(X_test)), squared=False))"
   ]
  },
  {
   "cell_type": "markdown",
   "id": "b3c6d088-14b9-47a2-a205-6c2ca1be8631",
   "metadata": {},
   "source": [
    "### Random Forest Regressor\n",
    "\n",
    "Instead of linear models, we could also consider using tree-based models. The difference here is that we would not be required to perform standardisation for the continuous features, since this does not affect tree-based models. The first model we try is a Random Forest regressor.\n",
    "\n",
    "The Random Forest model returned an R^2 value of 0.97, with a mean squared error of 0.043 and a root mean squared error of 0.0033. We see that in all three metrics, the Random Forest model performed better than the linear models. One reason for the better performance is that tree-based models discared the biggest assumption of linear models: that the features affect the resale price in a linear manner. As a result, tree-based models are able to discover more intricate relations to the features, and would have better performance."
   ]
  },
  {
   "cell_type": "code",
   "execution_count": 6,
   "id": "22fc8925-32ee-40ae-8ccc-57c775c26729",
   "metadata": {},
   "outputs": [],
   "source": [
    "# Initiating preprocessing steps for features\n",
    "\n",
    "rf_mapper = DataFrameMapper([\n",
    "    (continuous_features, None),\n",
    "    (categorical_features, OneHotEncoder())], df_out=True)"
   ]
  },
  {
   "cell_type": "code",
   "execution_count": 7,
   "id": "75f708a4-ba2e-460e-b02b-c630602baf9b",
   "metadata": {},
   "outputs": [
    {
     "data": {
      "text/plain": [
       "Pipeline(steps=[('preprocessing',\n",
       "                 DataFrameMapper(df_out=True, drop_cols=[],\n",
       "                                 features=[(['floor_area_sqm',\n",
       "                                             'nearest_mrt_dist',\n",
       "                                             'nearest_pri_sch_dist',\n",
       "                                             'nearest_sec_sch_dist',\n",
       "                                             'nearest_mall_dist',\n",
       "                                             'lease_deci'],\n",
       "                                            None),\n",
       "                                           (['town', 'flat_type', 'flat_model',\n",
       "                                             'mid_storey'],\n",
       "                                            OneHotEncoder())])),\n",
       "                ('regressor', RandomForestRegressor())])"
      ]
     },
     "execution_count": 7,
     "metadata": {},
     "output_type": "execute_result"
    }
   ],
   "source": [
    "# Building pipeline and training Random Forest Regressor\n",
    "\n",
    "rf_pipeline = Pipeline(steps=[\n",
    "    ('preprocessing', rf_mapper),\n",
    "    ('regressor', RandomForestRegressor())])\n",
    "\n",
    "rf_pipeline.fit(X_train, y_train)"
   ]
  },
  {
   "cell_type": "code",
   "execution_count": 10,
   "id": "a33d3c59-6dc2-4ba6-b3d6-305bdd57a223",
   "metadata": {},
   "outputs": [
    {
     "name": "stdout",
     "output_type": "stream",
     "text": [
      "Random Forest R^2: 0.9688789318911311\n",
      "Random Forest MAE: 0.04286669915249112\n",
      "Random Forest RMSE: 0.0033259751099986093\n"
     ]
    }
   ],
   "source": [
    "# Examining model accuracy metrics\n",
    "\n",
    "print('Random Forest R^2: {}'.format(rf_pipeline.score(X_test, y_test)))\n",
    "print('Random Forest MAE: {}'.format(mean_absolute_error(y_test, rf_pipeline.predict(X_test))))\n",
    "print('Random Forest RMSE: {}'.format(mean_squared_error(y_test, rf_pipeline.predict(X_test)), squared=False))"
   ]
  },
  {
   "cell_type": "markdown",
   "id": "cf97d901-3519-4d74-95ce-ef6f2f0cc18f",
   "metadata": {},
   "source": [
    "For the Random Forest model, there is a set of hyperparameters that can be modifed for the model, including max tree depth, number of samples for each leaf, etc. These hyperparameters can be tuned to achieve better model accuracy. In our case, we use RandomisedSearchCV to try random combinations of hyperparameter values to find the best set for our model. An alternative and more comprehensive way would be to use GridSearchCV to run through every combination. However, as the training time for the Random Forest model is much longer than linear models, we chose to use Randomised Search to cut down on the runtime."
   ]
  },
  {
   "cell_type": "code",
   "execution_count": 18,
   "id": "57fcb04c-79a9-49c6-8d05-d8d871751a71",
   "metadata": {},
   "outputs": [
    {
     "name": "stdout",
     "output_type": "stream",
     "text": [
      "Fitting 5 folds for each of 10 candidates, totalling 50 fits\n"
     ]
    },
    {
     "data": {
      "text/plain": [
       "RandomizedSearchCV(estimator=Pipeline(steps=[('preprocessing',\n",
       "                                              DataFrameMapper(df_out=True,\n",
       "                                                              drop_cols=[],\n",
       "                                                              features=[(['floor_area_sqm',\n",
       "                                                                          'nearest_mrt_dist',\n",
       "                                                                          'nearest_pri_sch_dist',\n",
       "                                                                          'nearest_sec_sch_dist',\n",
       "                                                                          'nearest_mall_dist',\n",
       "                                                                          'lease_deci'],\n",
       "                                                                         None),\n",
       "                                                                        (['town',\n",
       "                                                                          'flat_type',\n",
       "                                                                          'flat_model',\n",
       "                                                                          'mid_storey'],\n",
       "                                                                         OneHotEncoder())])),\n",
       "                                             ('regressor',\n",
       "                                              RandomForestRegressor())]),\n",
       "                   n_jobs=1,\n",
       "                   param_distributions={'regressor__max_depth': [30, 40, 50, 60,\n",
       "                                                                 70],\n",
       "                                        'regressor__min_samples_leaf': [1, 3,\n",
       "                                                                        5],\n",
       "                                        'regressor__min_samples_split': [2, 4,\n",
       "                                                                         8,\n",
       "                                                                         16],\n",
       "                                        'regressor__n_estimators': [100, 200,\n",
       "                                                                    300,\n",
       "                                                                    1000]},\n",
       "                   random_state=42, verbose=1)"
      ]
     },
     "execution_count": 18,
     "metadata": {},
     "output_type": "execute_result"
    }
   ],
   "source": [
    "# Hyperparamerter Optimisation\n",
    "\n",
    "param_grid = {\n",
    "    'regressor__max_depth': [30, 40, 50, 60, 70],\n",
    "    'regressor__min_samples_leaf': [1, 3, 5],\n",
    "    'regressor__min_samples_split': [2, 4, 8, 16],\n",
    "    'regressor__n_estimators': [100, 200, 300, 1000]}\n",
    "\n",
    "search = RandomizedSearchCV(rf_pipeline, param_grid, verbose=1, n_jobs=1, random_state=42)\n",
    "search.fit(X_train, y_train)"
   ]
  },
  {
   "cell_type": "code",
   "execution_count": 25,
   "id": "6d756a3d-e721-4a2f-9b91-6ecbfda76d5d",
   "metadata": {},
   "outputs": [
    {
     "data": {
      "text/plain": [
       "{'regressor__n_estimators': 100,\n",
       " 'regressor__min_samples_split': 8,\n",
       " 'regressor__min_samples_leaf': 1,\n",
       " 'regressor__max_depth': 50}"
      ]
     },
     "execution_count": 25,
     "metadata": {},
     "output_type": "execute_result"
    }
   ],
   "source": [
    "# Obtaining the best hyperparameter values from the randomised search\n",
    "\n",
    "search.best_params_"
   ]
  },
  {
   "cell_type": "code",
   "execution_count": 26,
   "id": "2e14470d-650e-4f6e-8744-f18987e25dbe",
   "metadata": {},
   "outputs": [
    {
     "data": {
      "text/plain": [
       "Pipeline(steps=[('preprocessing',\n",
       "                 DataFrameMapper(df_out=True, drop_cols=[],\n",
       "                                 features=[(['floor_area_sqm',\n",
       "                                             'nearest_mrt_dist',\n",
       "                                             'nearest_pri_sch_dist',\n",
       "                                             'nearest_sec_sch_dist',\n",
       "                                             'nearest_mall_dist',\n",
       "                                             'lease_deci'],\n",
       "                                            None),\n",
       "                                           (['town', 'flat_type', 'flat_model',\n",
       "                                             'mid_storey'],\n",
       "                                            OneHotEncoder())])),\n",
       "                ('regressor',\n",
       "                 RandomForestRegressor(max_depth=50, min_samples_split=8))])"
      ]
     },
     "execution_count": 26,
     "metadata": {},
     "output_type": "execute_result"
    }
   ],
   "source": [
    "# Constructing a Random Forest pipeline with the optimal hyperparameters\n",
    "\n",
    "rf_best_params = {'n_estimators': 100,\n",
    " 'min_samples_split': 8,\n",
    " 'min_samples_leaf': 1,\n",
    " 'max_depth': 50}\n",
    "\n",
    "\n",
    "rf_best = Pipeline(steps=[\n",
    "    ('preprocessing', rf_mapper),\n",
    "    ('regressor', RandomForestRegressor(**rf_best_params))])\n",
    "\n",
    "rf_best.fit(X_train, y_train)"
   ]
  },
  {
   "cell_type": "code",
   "execution_count": 27,
   "id": "38ad7b78-e5ae-4bdf-86ff-0176901f7bcb",
   "metadata": {},
   "outputs": [
    {
     "name": "stdout",
     "output_type": "stream",
     "text": [
      "Best Random Forest R^2: 0.9690918901533787\n",
      "Best Random Forest MAE: 0.04284201621748797\n",
      "Best Random Forest RMSE: 0.0033032158050407445\n"
     ]
    }
   ],
   "source": [
    "# Examining model accuracy metrics\n",
    "\n",
    "print('Best Random Forest R^2: {}'.format(rf_best.score(X_test, y_test)))\n",
    "print('Best Random Forest MAE: {}'.format(mean_absolute_error(y_test, rf_best.predict(X_test))))\n",
    "print('Best Random Forest RMSE: {}'.format(mean_squared_error(y_test, rf_best.predict(X_test)), squared=False))"
   ]
  },
  {
   "cell_type": "markdown",
   "id": "a114bad7-91a2-40de-814a-97f376976f04",
   "metadata": {},
   "source": [
    "### XGBoost Regressor\n",
    "\n",
    "For the final type of model, we will be using boosted trees from XGBoost Regressor. Similar to the Random Forest implementation, we will be encoding the categorical variables and using hyperparameter tuning to find the optimal hyperparameters. In this case, since XGBoost models train faster than Random Forest Models, we will be carrying out Grid Search instead of Randomised Search to obtain the best hyperparameters.\n",
    "\n",
    "For this XGBoost model, we obtain an R^2 value of 0.97, with a mean absolute error of 0.044 and a root mean squared error of 0.0033. In comparison to our Random Forest model, our XGBoost model has a higher R^2 value and a lower RMSE value. As such, we would be using this model as the final model for implementation into our API."
   ]
  },
  {
   "cell_type": "code",
   "execution_count": null,
   "id": "ba5e4946-177d-43a9-870e-e0e65232b23d",
   "metadata": {},
   "outputs": [],
   "source": [
    "# Building pipeline and performing Grid Search\n",
    "\n",
    "xgb_pipeline = Pipeline(steps=[\n",
    "    ('preprocessing', rf_mapper),\n",
    "    ('regressor', XGBRegressor())])\n",
    "\n",
    "param_grid = {\n",
    "    'regressor__learning_rate': [0.05, 0.10, 0.20, 0.30],\n",
    "    'regressor__max_depth': [4, 6, 8, 10],\n",
    "    'regressor__min_child_weight': [1, 3, 5],\n",
    "    'regressor__gamma': [0.0, 0.1, 0.2, 0.3],\n",
    "    'regressor__colsample_bytree': [0.3, 0.5, 0.7, 1]}\n",
    "\n",
    "search = GridSearchCV(xgb_pipeline, param_grid, verbose=1, n_jobs=1, cv=3)\n",
    "search.fit(X_train, y_train)"
   ]
  },
  {
   "cell_type": "code",
   "execution_count": 31,
   "id": "58b0699a-d7f6-4f47-a34a-0456be7b6c7b",
   "metadata": {},
   "outputs": [
    {
     "data": {
      "text/plain": [
       "Pipeline(steps=[('preprocessing',\n",
       "                 DataFrameMapper(df_out=True, drop_cols=[],\n",
       "                                 features=[(['floor_area_sqm',\n",
       "                                             'nearest_mrt_dist',\n",
       "                                             'nearest_pri_sch_dist',\n",
       "                                             'nearest_sec_sch_dist',\n",
       "                                             'nearest_mall_dist',\n",
       "                                             'lease_deci'],\n",
       "                                            None),\n",
       "                                           (['town', 'flat_type', 'flat_model',\n",
       "                                             'mid_storey'],\n",
       "                                            OneHotEncoder())])),\n",
       "                ('regressor',\n",
       "                 XGBRegressor(base_score=0.5, booster='gbtree',\n",
       "                              colsample_byleve...\n",
       "                              colsample_bytree=0.7, gamma=0.0, gpu_id=-1,\n",
       "                              importance_type='gain',\n",
       "                              interaction_constraints='', learning_rate=0.2,\n",
       "                              max_delta_step=0, max_depth=10,\n",
       "                              min_child_weight=5, missing=nan,\n",
       "                              monotone_constraints='()', n_estimators=100,\n",
       "                              n_jobs=4, num_parallel_tree=1, random_state=0,\n",
       "                              reg_alpha=0, reg_lambda=1, scale_pos_weight=1,\n",
       "                              subsample=1, tree_method='exact',\n",
       "                              validate_parameters=1, verbosity=None))])"
      ]
     },
     "execution_count": 31,
     "metadata": {},
     "output_type": "execute_result"
    }
   ],
   "source": [
    "# Constructing an XGBoost pipeline with the optimal hyperparameters# \n",
    "\n",
    "xgb_best_params = {'colsample_bytree': 0.7,\n",
    " 'gamma': 0.0,\n",
    " 'learning_rate': 0.2,\n",
    " 'max_depth': 10,\n",
    " 'min_child_weight': 5}\n",
    "\n",
    "xgb_best = Pipeline(steps=[\n",
    "    ('preprocessing', rf_mapper),\n",
    "    ('regressor', XGBRegressor(**xgb_best_params))])\n",
    "\n",
    "xgb_best.fit(X_train, y_train)"
   ]
  },
  {
   "cell_type": "code",
   "execution_count": 33,
   "id": "bd13dcc7-178a-4195-b0a6-ca4e71364b51",
   "metadata": {},
   "outputs": [
    {
     "name": "stdout",
     "output_type": "stream",
     "text": [
      "Best XGBoost R^2: 0.9692660355426184\n",
      "Best XGBoost MAE: 0.04362216956090591\n",
      "Best XGBoost RMSE: 0.003284604514833555\n"
     ]
    }
   ],
   "source": [
    "# Examining model accuracy metrics\n",
    "\n",
    "print('Best XGBoost R^2: {}'.format(xgb_best.score(X_test, y_test)))\n",
    "print('Best XGBoost MAE: {}'.format(mean_absolute_error(y_test, xgb_best.predict(X_test))))\n",
    "print('Best XGBoost RMSE: {}'.format(mean_squared_error(y_test, xgb_best.predict(X_test)), squared=False))"
   ]
  },
  {
   "cell_type": "markdown",
   "id": "efdb569b-2cf2-4a15-941a-119f5cc17dfa",
   "metadata": {},
   "source": [
    "### Making Predictions\n",
    "\n",
    "Now that we have our trained model, we can use it to make predictions about resale prices. We will be using the second entry in our test dataset as an example. We can see below the features of this resale flat in Hougang. In order to make predictions, we run this entry through the XGBoost pipeline, and obtain a predicted value.\n",
    "\n",
    "The output value of 12.55 doesnt seem quite right. Since we previously did an log-transformation to the resale prices when training our model, the output prediction is in the log scale. To convert it back, we will be doing the reverse of what we did to the original resale prices (i.e. subtracting 1 and taking the exponent of this value). We end up with a final price of \\\\$282,337. We see that for this particular entry, the predicted price is quite close to the actual resale price of \\\\$280,000."
   ]
  },
  {
   "cell_type": "code",
   "execution_count": 70,
   "id": "623ce906-aa13-49ce-aa40-d7bccf468e38",
   "metadata": {},
   "outputs": [
    {
     "data": {
      "text/html": [
       "<div>\n",
       "<style scoped>\n",
       "    .dataframe tbody tr th:only-of-type {\n",
       "        vertical-align: middle;\n",
       "    }\n",
       "\n",
       "    .dataframe tbody tr th {\n",
       "        vertical-align: top;\n",
       "    }\n",
       "\n",
       "    .dataframe thead th {\n",
       "        text-align: right;\n",
       "    }\n",
       "</style>\n",
       "<table border=\"1\" class=\"dataframe\">\n",
       "  <thead>\n",
       "    <tr style=\"text-align: right;\">\n",
       "      <th></th>\n",
       "      <th>floor_area_sqm</th>\n",
       "      <th>nearest_mrt_dist</th>\n",
       "      <th>nearest_pri_sch_dist</th>\n",
       "      <th>nearest_sec_sch_dist</th>\n",
       "      <th>nearest_mall_dist</th>\n",
       "      <th>lease_deci</th>\n",
       "      <th>town</th>\n",
       "      <th>flat_type</th>\n",
       "      <th>flat_model</th>\n",
       "      <th>mid_storey</th>\n",
       "    </tr>\n",
       "  </thead>\n",
       "  <tbody>\n",
       "    <tr>\n",
       "      <th>102198</th>\n",
       "      <td>60.0</td>\n",
       "      <td>1.217217</td>\n",
       "      <td>0.185306</td>\n",
       "      <td>0.198379</td>\n",
       "      <td>0.489944</td>\n",
       "      <td>64.666667</td>\n",
       "      <td>HOUGANG</td>\n",
       "      <td>3 ROOM</td>\n",
       "      <td>Improved</td>\n",
       "      <td>5</td>\n",
       "    </tr>\n",
       "  </tbody>\n",
       "</table>\n",
       "</div>"
      ],
      "text/plain": [
       "        floor_area_sqm  nearest_mrt_dist  nearest_pri_sch_dist  \\\n",
       "102198            60.0          1.217217              0.185306   \n",
       "\n",
       "        nearest_sec_sch_dist  nearest_mall_dist  lease_deci     town  \\\n",
       "102198              0.198379           0.489944   64.666667  HOUGANG   \n",
       "\n",
       "       flat_type flat_model mid_storey  \n",
       "102198    3 ROOM   Improved          5  "
      ]
     },
     "execution_count": 70,
     "metadata": {},
     "output_type": "execute_result"
    }
   ],
   "source": [
    "# Examining the first sample of the test data\n",
    "\n",
    "sample = pd.DataFrame(X_test.iloc[1]).transpose()\n",
    "sample[continuous_features] = sample[continuous_features].astype(float)\n",
    "sample"
   ]
  },
  {
   "cell_type": "code",
   "execution_count": 71,
   "id": "6e14225e-8e75-42be-8718-a2810b0505ee",
   "metadata": {},
   "outputs": [
    {
     "data": {
      "text/plain": [
       "array([12.55086], dtype=float32)"
      ]
     },
     "execution_count": 71,
     "metadata": {},
     "output_type": "execute_result"
    }
   ],
   "source": [
    "# Obtaining predicted value for first sample\n",
    "\n",
    "predicted = xgb_best.predict(sample)\n",
    "predicted"
   ]
  },
  {
   "cell_type": "code",
   "execution_count": 72,
   "id": "c628d01c-50da-49ce-af81-8ec6d7438264",
   "metadata": {},
   "outputs": [
    {
     "name": "stdout",
     "output_type": "stream",
     "text": [
      "Predicted Resale Price: $282337.0\n",
      "Actual Resale Price: $280000.0\n"
     ]
    }
   ],
   "source": [
    "# Converting resale price in log scale back into dollars, and comparing it to the actual resale price\n",
    "\n",
    "price = np.expm1(predicted)\n",
    "actual = np.expm1(y_test.iloc[1])\n",
    "\n",
    "print(\"Predicted Resale Price: ${}\".format(round(price[0],0)))\n",
    "print(\"Actual Resale Price: ${}\".format(round(actual,0)))"
   ]
  },
  {
   "cell_type": "markdown",
   "id": "a6a9f565-6e47-4de5-bf44-6466ff384c44",
   "metadata": {},
   "source": [
    "### Saving Model\n",
    "\n",
    "Finally, to avoid re-training our model every time, we will be saving the trained model to a Pickle file."
   ]
  },
  {
   "cell_type": "code",
   "execution_count": null,
   "id": "06f00536-b3f0-4124-a88c-cd6c804bd9c6",
   "metadata": {},
   "outputs": [],
   "source": [
    "pickle.dump(xgb_best, open('resale_prices_deployment/xgb_best.sav', 'wb'))"
   ]
  }
 ],
 "metadata": {
  "kernelspec": {
   "display_name": "Python 3",
   "language": "python",
   "name": "python3"
  },
  "language_info": {
   "codemirror_mode": {
    "name": "ipython",
    "version": 3
   },
   "file_extension": ".py",
   "mimetype": "text/x-python",
   "name": "python",
   "nbconvert_exporter": "python",
   "pygments_lexer": "ipython3",
   "version": "3.8.8"
  }
 },
 "nbformat": 4,
 "nbformat_minor": 5
}
