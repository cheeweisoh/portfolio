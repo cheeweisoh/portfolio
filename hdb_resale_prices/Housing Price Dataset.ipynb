{
 "cells": [
  {
   "cell_type": "markdown",
   "id": "de38e9bc-7623-425d-bcc7-d4190076efa6",
   "metadata": {},
   "source": [
    "# Predicting HDB Resale Prices in Singapore I\n",
    "## Dataset Preparation\n",
    "\n",
    "Public housing in Singapore is managed by the Housing and Development Board. The aim of public housing is to provide affordable housing options to Singaporeans despite domestic land constraints. This is achieved through high-rise housing structures and grants that make the costs of housing affordable for the average Singaporean. In the recent years, there have been an increasing number of HDB flats making headlines for record-breaking transaction prices.\n",
    "\n",
    "In this project, we explore the factors that might affect HDB resale prices in Singapore. Since majority of Singaporeeans own HDB units, this could give them an indication as to the current prices of their property. In this part, we will work on publicly available datasets to generate a set of possible factors that might affect resale prices. In the next part, we will make use of data analytics to examine the effect of housing prices on these factors, and use models to predict the resale prices of HDB flats in Singapore."
   ]
  },
  {
   "cell_type": "markdown",
   "id": "85226ac1-62ef-4b7a-b80a-b825190216fc",
   "metadata": {},
   "source": [
    "---"
   ]
  },
  {
   "cell_type": "markdown",
   "id": "31bd44d0-f41a-4a19-bff0-73216e1c6c64",
   "metadata": {
    "tags": []
   },
   "source": [
    "### Importing Necessary Packages\n",
    "\n",
    "For this project, we will be using basic packages in Python, such as Numpy and Pandas to import and manipulate existing datasets. We will also be making use of Requests to read APIs."
   ]
  },
  {
   "cell_type": "code",
   "execution_count": 1,
   "id": "c9b6ad4f-b4c0-44a9-b8cc-1ead2d1247f3",
   "metadata": {
    "tags": []
   },
   "outputs": [],
   "source": [
    "# Surpressing warnings for readibility\n",
    "\n",
    "import warnings\n",
    "warnings.filterwarnings(\"ignore\")"
   ]
  },
  {
   "cell_type": "code",
   "execution_count": 15,
   "id": "8fd1e9fb-185d-4b39-a33c-87928b62269a",
   "metadata": {
    "tags": []
   },
   "outputs": [],
   "source": [
    "# Importing necessary packages\n",
    "\n",
    "import requests\n",
    "import pandas as pd\n",
    "import numpy as np\n",
    "import matplotlib.pyplot as plt\n",
    "from tqdm import trange\n",
    "\n",
    "pd.set_option(\"display.max_columns\", None)"
   ]
  },
  {
   "cell_type": "markdown",
   "id": "3fa703e1-a64c-4ebf-b420-60a3f42d2336",
   "metadata": {
    "tags": []
   },
   "source": [
    "---"
   ]
  },
  {
   "cell_type": "markdown",
   "id": "3227e671-b78d-4f6d-ad70-0c99ac094326",
   "metadata": {
    "tags": []
   },
   "source": [
    "### HDB Resale Prices Dataset\n",
    "\n",
    "The dataset that we will be using is from data.gov.sg, a site that publishes a spread of public data in Singapore, from economic indicators to transport, infrastructure, etc. We will be using the Resale Flat Prices published by HDB. While the data for this dataset dates back to 1990s, we will only be using data from 2017 onwards. More recent data would provide a more accurate picture of the updated needs of Singaporeans, and how this reflects in what they are willing to pay for resale flats.\n",
    "\n",
    "We will be using the data.gov.sg API to extract the dataset, although the dataset can also be downloaded from the website."
   ]
  },
  {
   "cell_type": "code",
   "execution_count": 7,
   "id": "c91e2dff-414d-4988-ad83-90d81662c83a",
   "metadata": {},
   "outputs": [],
   "source": [
    "# Importing dataset from data.gov.sg API\n",
    "\n",
    "dataset = requests.get('https://data.gov.sg/api/action/datastore_search?resource_id=f1765b54-a209-4718-8d38-a39237f502b3&limit=108048').json()\n",
    "resale_df = pd.DataFrame(dataset['result']['records'])"
   ]
  },
  {
   "cell_type": "code",
   "execution_count": 21,
   "id": "6b211eb3-6dd9-4864-98b3-745c9c1c57c1",
   "metadata": {},
   "outputs": [
    {
     "name": "stdout",
     "output_type": "stream",
     "text": [
      "Number of rows: 108048\n",
      "Number of columns : 12\n"
     ]
    }
   ],
   "source": [
    "# Checking shape of dataset\n",
    "\n",
    "rows, cols = resale_df.shape\n",
    "print('Number of rows: {}'.format(rows))\n",
    "print('Number of columns : {}'.format(cols))"
   ]
  },
  {
   "cell_type": "code",
   "execution_count": 22,
   "id": "a558c042-176c-4439-9f30-55dd77a56fab",
   "metadata": {},
   "outputs": [
    {
     "name": "stdout",
     "output_type": "stream",
     "text": [
      "<class 'pandas.core.frame.DataFrame'>\n",
      "RangeIndex: 108048 entries, 0 to 108047\n",
      "Data columns (total 12 columns):\n",
      " #   Column               Non-Null Count   Dtype  \n",
      "---  ------               --------------   -----  \n",
      " 0   town                 108048 non-null  object \n",
      " 1   flat_type            108048 non-null  object \n",
      " 2   flat_model           108048 non-null  object \n",
      " 3   floor_area_sqm       108048 non-null  float64\n",
      " 4   street_name          108048 non-null  object \n",
      " 5   resale_price         108048 non-null  float64\n",
      " 6   month                108048 non-null  object \n",
      " 7   remaining_lease      108048 non-null  object \n",
      " 8   lease_commence_date  108048 non-null  int64  \n",
      " 9   storey_range         108048 non-null  object \n",
      " 10  _id                  108048 non-null  int64  \n",
      " 11  block                108048 non-null  object \n",
      "dtypes: float64(2), int64(2), object(8)\n",
      "memory usage: 9.9+ MB\n"
     ]
    }
   ],
   "source": [
    "# Checking info of dataset\n",
    "\n",
    "resale_df.info()"
   ]
  },
  {
   "cell_type": "markdown",
   "id": "e91e77df-cce2-423d-8b75-cf1b7a2cd3f9",
   "metadata": {},
   "source": [
    "From the info of the dataset, we observe that there are no missing values in any of the columns. This would make things easier, as we do not have to take additional steps to treat missing data."
   ]
  },
  {
   "cell_type": "code",
   "execution_count": 23,
   "id": "a7176edb-cbb7-4e93-9cbb-923b3b3ff79d",
   "metadata": {},
   "outputs": [
    {
     "data": {
      "text/html": [
       "<div>\n",
       "<style scoped>\n",
       "    .dataframe tbody tr th:only-of-type {\n",
       "        vertical-align: middle;\n",
       "    }\n",
       "\n",
       "    .dataframe tbody tr th {\n",
       "        vertical-align: top;\n",
       "    }\n",
       "\n",
       "    .dataframe thead th {\n",
       "        text-align: right;\n",
       "    }\n",
       "</style>\n",
       "<table border=\"1\" class=\"dataframe\">\n",
       "  <thead>\n",
       "    <tr style=\"text-align: right;\">\n",
       "      <th></th>\n",
       "      <th>town</th>\n",
       "      <th>flat_type</th>\n",
       "      <th>flat_model</th>\n",
       "      <th>floor_area_sqm</th>\n",
       "      <th>street_name</th>\n",
       "      <th>resale_price</th>\n",
       "      <th>month</th>\n",
       "      <th>remaining_lease</th>\n",
       "      <th>lease_commence_date</th>\n",
       "      <th>storey_range</th>\n",
       "      <th>_id</th>\n",
       "      <th>block</th>\n",
       "    </tr>\n",
       "  </thead>\n",
       "  <tbody>\n",
       "    <tr>\n",
       "      <th>0</th>\n",
       "      <td>ANG MO KIO</td>\n",
       "      <td>2 ROOM</td>\n",
       "      <td>Improved</td>\n",
       "      <td>44.0</td>\n",
       "      <td>ANG MO KIO AVE 10</td>\n",
       "      <td>232000.0</td>\n",
       "      <td>2017-01</td>\n",
       "      <td>61 years 04 months</td>\n",
       "      <td>1979</td>\n",
       "      <td>10 TO 12</td>\n",
       "      <td>1</td>\n",
       "      <td>406</td>\n",
       "    </tr>\n",
       "    <tr>\n",
       "      <th>1</th>\n",
       "      <td>ANG MO KIO</td>\n",
       "      <td>3 ROOM</td>\n",
       "      <td>New Generation</td>\n",
       "      <td>67.0</td>\n",
       "      <td>ANG MO KIO AVE 4</td>\n",
       "      <td>250000.0</td>\n",
       "      <td>2017-01</td>\n",
       "      <td>60 years 07 months</td>\n",
       "      <td>1978</td>\n",
       "      <td>01 TO 03</td>\n",
       "      <td>2</td>\n",
       "      <td>108</td>\n",
       "    </tr>\n",
       "    <tr>\n",
       "      <th>2</th>\n",
       "      <td>ANG MO KIO</td>\n",
       "      <td>3 ROOM</td>\n",
       "      <td>New Generation</td>\n",
       "      <td>67.0</td>\n",
       "      <td>ANG MO KIO AVE 5</td>\n",
       "      <td>262000.0</td>\n",
       "      <td>2017-01</td>\n",
       "      <td>62 years 05 months</td>\n",
       "      <td>1980</td>\n",
       "      <td>01 TO 03</td>\n",
       "      <td>3</td>\n",
       "      <td>602</td>\n",
       "    </tr>\n",
       "    <tr>\n",
       "      <th>3</th>\n",
       "      <td>ANG MO KIO</td>\n",
       "      <td>3 ROOM</td>\n",
       "      <td>New Generation</td>\n",
       "      <td>68.0</td>\n",
       "      <td>ANG MO KIO AVE 10</td>\n",
       "      <td>265000.0</td>\n",
       "      <td>2017-01</td>\n",
       "      <td>62 years 01 month</td>\n",
       "      <td>1980</td>\n",
       "      <td>04 TO 06</td>\n",
       "      <td>4</td>\n",
       "      <td>465</td>\n",
       "    </tr>\n",
       "    <tr>\n",
       "      <th>4</th>\n",
       "      <td>ANG MO KIO</td>\n",
       "      <td>3 ROOM</td>\n",
       "      <td>New Generation</td>\n",
       "      <td>67.0</td>\n",
       "      <td>ANG MO KIO AVE 5</td>\n",
       "      <td>265000.0</td>\n",
       "      <td>2017-01</td>\n",
       "      <td>62 years 05 months</td>\n",
       "      <td>1980</td>\n",
       "      <td>01 TO 03</td>\n",
       "      <td>5</td>\n",
       "      <td>601</td>\n",
       "    </tr>\n",
       "  </tbody>\n",
       "</table>\n",
       "</div>"
      ],
      "text/plain": [
       "         town flat_type      flat_model  floor_area_sqm        street_name  \\\n",
       "0  ANG MO KIO    2 ROOM        Improved            44.0  ANG MO KIO AVE 10   \n",
       "1  ANG MO KIO    3 ROOM  New Generation            67.0   ANG MO KIO AVE 4   \n",
       "2  ANG MO KIO    3 ROOM  New Generation            67.0   ANG MO KIO AVE 5   \n",
       "3  ANG MO KIO    3 ROOM  New Generation            68.0  ANG MO KIO AVE 10   \n",
       "4  ANG MO KIO    3 ROOM  New Generation            67.0   ANG MO KIO AVE 5   \n",
       "\n",
       "   resale_price    month     remaining_lease  lease_commence_date  \\\n",
       "0      232000.0  2017-01  61 years 04 months                 1979   \n",
       "1      250000.0  2017-01  60 years 07 months                 1978   \n",
       "2      262000.0  2017-01  62 years 05 months                 1980   \n",
       "3      265000.0  2017-01   62 years 01 month                 1980   \n",
       "4      265000.0  2017-01  62 years 05 months                 1980   \n",
       "\n",
       "  storey_range  _id block  \n",
       "0     10 TO 12    1   406  \n",
       "1     01 TO 03    2   108  \n",
       "2     01 TO 03    3   602  \n",
       "3     04 TO 06    4   465  \n",
       "4     01 TO 03    5   601  "
      ]
     },
     "execution_count": 23,
     "metadata": {},
     "output_type": "execute_result"
    }
   ],
   "source": [
    "# Examining dataset\n",
    "\n",
    "resale_df.head()"
   ]
  },
  {
   "cell_type": "markdown",
   "id": "ea841a88-e1de-4f2c-b3af-57f2d6900857",
   "metadata": {},
   "source": [
    "The existing dataset has 104,282 resale transactions from 2017 to 2021. For each transaction, it also contains basic geographic information such as the block, storey range, street name, and the town of the flat. It also contains additional information such as the flat type and model, floor area, and remaining lease on the flat. We will mainly be using the existing geographic information to generate additional geographic factors.\n",
    "\n",
    "In particular, we will be generating the following features:\n",
    "* Distance to nearest MRT/LRT\n",
    "  * According to the population census, 57.7% of employed residents took a combination of public transport to work. While bus stops are commonly conveniently located in HDB estates, it is more likely that MRT/LRT stations are further away. By considering the distance to the nearest MRT/LRT, we could get a sensing of how convenient that area is.\n",
    "* Distance to nearest primary and secondary school\n",
    "  * Another concern especially for parents would probably be the availability of schools in the vacinity. Having schools close to their homes would make it more convenient for their children.\n",
    "* Distance to nearest shopping mall\n",
    "  * Shopping centres are commonly places where Singaporeans would buy neccessities from groceries to clothing, as well as have their meals at restraurants or food courts. By considering the distance to the nearest mall, we get a sensing of the availability of such amenities in the area.\n",
    "  \n",
    "A limited number of features were considered in this analysis. Further features that can be considered, as well as improvements to existing features will be discussed later."
   ]
  },
  {
   "cell_type": "markdown",
   "id": "39cc812a-5f52-41e2-8108-dd5870fb2a47",
   "metadata": {},
   "source": [
    "---"
   ]
  },
  {
   "cell_type": "markdown",
   "id": "96633584-4206-4d59-9427-24713e7b48a4",
   "metadata": {},
   "source": [
    "### Geocoding HDB Resale Prices\n",
    "\n",
    "To enable creation of other distance-based features, we would need to generate the positions of the resale flats. Here, we can make use of the OneMap API, which allows us to search for the address of the flat and return its latitude and longitude."
   ]
  },
  {
   "cell_type": "code",
   "execution_count": 24,
   "id": "a9587612-8904-4080-87d2-c5ae84eb6d25",
   "metadata": {},
   "outputs": [],
   "source": [
    "# Function for searching a single address in OneMap API\n",
    "\n",
    "def onemap_geocoding(address):\n",
    "    result = requests.get('https://developers.onemap.sg/commonapi/search?searchVal='+address+'&returnGeom=Y&getAddrDetails=Y&pageNum=1')\n",
    "    result = eval(result.text)\n",
    "    \n",
    "    if result['found'] > 0:\n",
    "        lat, long = result['results'][0]['LATITUDE'], result['results'][0]['LONGITUDE']\n",
    "        return address, lat, long\n",
    "    else:\n",
    "        pass"
   ]
  },
  {
   "cell_type": "code",
   "execution_count": 25,
   "id": "41b4ac11-1879-45dc-8905-912da9420994",
   "metadata": {},
   "outputs": [],
   "source": [
    "# Function that takes in a series of addresses, and outputs the corresponding latitude and longitudes.\n",
    "\n",
    "def geocode_series(addresses):\n",
    "    coord_list = []\n",
    "    failed_list = []\n",
    "    failed = 0\n",
    "    t = trange(len(addresses), desc='Geoding Addresses')\n",
    "    for i in t:\n",
    "        try:\n",
    "            result = onemap_geocoding(addresses[i])\n",
    "            if len(result) > 0:\n",
    "                coord_list.append(result)\n",
    "                t.set_description('{} failed'.format(failed))\n",
    "        except:\n",
    "            failed_list.append(addresses[i])\n",
    "            failed += 1\n",
    "            t.set_description('{} failed'.format(failed))\n",
    "    \n",
    "    return coord_list"
   ]
  },
  {
   "cell_type": "code",
   "execution_count": 26,
   "id": "76931510-5340-4e09-b6ee-ced539702a30",
   "metadata": {},
   "outputs": [],
   "source": [
    "# Creating address field to be used as search parameter.\n",
    "\n",
    "resale_df['address'] = resale_df['block'] + ' ' + resale_df['street_name']"
   ]
  },
  {
   "cell_type": "code",
   "execution_count": 27,
   "id": "41a28375-48e2-4f57-8977-ec252fadfda5",
   "metadata": {},
   "outputs": [],
   "source": [
    "# As some addresses are duplicated, we retrieve a unique list of addresses to search, so as to reduce runtime.\n",
    "\n",
    "house_addresses = resale_df['address'].unique()"
   ]
  },
  {
   "cell_type": "code",
   "execution_count": 28,
   "id": "424cb54a-13cf-48cc-bf54-65d33aa0a4ca",
   "metadata": {
    "tags": []
   },
   "outputs": [
    {
     "name": "stderr",
     "output_type": "stream",
     "text": [
      "22 failed: 100%|███████████████████████████| 9123/9123 [14:31<00:00, 10.47it/s]\n"
     ]
    }
   ],
   "source": [
    "# Geocoding of addresses. Resultant dataset coord_df is a list of latitudes and longitudes for each unique address.\n",
    "\n",
    "coord_list = geocode_series(house_addresses)\n",
    "\n",
    "coord_df = pd.DataFrame(coord_list, columns=['address', 'latitude', 'longitude'])\n",
    "coord_df[['latitude','longitude']] = coord_df[['latitude', 'longitude']].astype(float)"
   ]
  },
  {
   "cell_type": "markdown",
   "id": "14c10a9c-c29b-4adc-9810-ddccd3af0172",
   "metadata": {},
   "source": [
    "---"
   ]
  },
  {
   "cell_type": "markdown",
   "id": "0a9c1de1-0052-4055-918c-2d78d99079d8",
   "metadata": {},
   "source": [
    "### Issues with Geocoding Addresses\n",
    "\n",
    "Using this initial approach, we notice a few issues that require addressing.\n",
    "\n",
    "Firstly, there are a few addresses that did not return any search results. Upon inspection, these addresses are all along \"St. George's Rd\". After looking up the address on OneMap, I found out that OneMap stores this street name as \"Saint George's Road\", and is unable to find the address using the short form for \"Saint\". To address this, the addresses containing \"St. George's Rd\" were changed to the full form \"Saint George's Road\"."
   ]
  },
  {
   "cell_type": "code",
   "execution_count": 29,
   "id": "e69393e8-982d-4fa5-a8a9-437d7e5d65f4",
   "metadata": {},
   "outputs": [],
   "source": [
    "# Renaming St. George's Rd to Saint George's Rd\n",
    "\n",
    "resale_df['address'] = resale_df['address'].str.replace('ST. GEORGE', 'SAINT GEORGE')"
   ]
  },
  {
   "cell_type": "markdown",
   "id": "1ee4cc65-8756-43d8-8957-30a7cdf21274",
   "metadata": {},
   "source": [
    "Secondly, it was later observed that there were a few addresses that returned the wrong latitudes and longitudes. For instance, the address \"2 Beach Rd\" was mapped to a place in Changi instead of near the Lavender area.\n",
    "\n",
    "The function created for the geocoding assumed that the top search result is the most accurate one, and returned the latitude and longitude for that result. Upon further investigation, it was found out that that was not always the case, and multiple addressses were mapped to the wrong coordinates. A better alternative would have been to use postal codes, which is unique to each address and would prevent multiple returns. However, since postal codes for the resale flats were not provided, further treatment had to be taken to ensure the correct latitude and longitude were obtained."
   ]
  },
  {
   "cell_type": "code",
   "execution_count": 30,
   "id": "d9ebe41d-e1f6-48eb-9702-3933e1758127",
   "metadata": {},
   "outputs": [
    {
     "data": {
      "text/html": [
       "<div>\n",
       "<style scoped>\n",
       "    .dataframe tbody tr th:only-of-type {\n",
       "        vertical-align: middle;\n",
       "    }\n",
       "\n",
       "    .dataframe tbody tr th {\n",
       "        vertical-align: top;\n",
       "    }\n",
       "\n",
       "    .dataframe thead th {\n",
       "        text-align: right;\n",
       "    }\n",
       "</style>\n",
       "<table border=\"1\" class=\"dataframe\">\n",
       "  <thead>\n",
       "    <tr style=\"text-align: right;\">\n",
       "      <th></th>\n",
       "      <th>address</th>\n",
       "      <th>latitude</th>\n",
       "      <th>longitude</th>\n",
       "    </tr>\n",
       "  </thead>\n",
       "  <tbody>\n",
       "    <tr>\n",
       "      <th>2450</th>\n",
       "      <td>2 BEACH RD</td>\n",
       "      <td>1.304033</td>\n",
       "      <td>103.864928</td>\n",
       "    </tr>\n",
       "  </tbody>\n",
       "</table>\n",
       "</div>"
      ],
      "text/plain": [
       "         address  latitude   longitude\n",
       "2450  2 BEACH RD  1.304033  103.864928"
      ]
     },
     "execution_count": 30,
     "metadata": {},
     "output_type": "execute_result"
    }
   ],
   "source": [
    "# Examining record for 2 Beach Rd\n",
    "\n",
    "coord_df[coord_df['address'] == '2 BEACH RD']"
   ]
  },
  {
   "cell_type": "code",
   "execution_count": 32,
   "id": "acc27b81-9bd6-4c47-815f-d3fc98558588",
   "metadata": {
    "tags": []
   },
   "outputs": [
    {
     "name": "stdout",
     "output_type": "stream",
     "text": [
      "{'SEARCHVAL': 'CHANGI BEACH CLUB', 'BLK_NO': '2', 'ROAD_NAME': 'ANDOVER ROAD', 'BUILDING': 'CHANGI BEACH CLUB', 'ADDRESS': '2 ANDOVER ROAD CHANGI BEACH CLUB SINGAPORE 509984', 'POSTAL': '509984', 'X': '43798.8961983481', 'Y': '41376.2409398966', 'LATITUDE': '1.39046224455233', 'LONGITUDE': '103.975283854916', 'LONGTITUDE': '103.975283854916'}\n",
      "{'SEARCHVAL': 'BEACH ROAD GARDENS', 'BLK_NO': '2', 'ROAD_NAME': 'BEACH ROAD', 'BUILDING': 'BEACH ROAD GARDENS', 'ADDRESS': '2 BEACH ROAD BEACH ROAD GARDENS SINGAPORE 190002', 'POSTAL': '190002', 'X': '31517.8850314394', 'Y': '31818.8846020326', 'LATITUDE': '1.30403300585898', 'LONGITUDE': '103.864928408355', 'LONGTITUDE': '103.864928408355'}\n"
     ]
    }
   ],
   "source": [
    "beachrd = eval(requests.get('https://developers.onemap.sg/commonapi/search?searchVal=2 BEACH RD&returnGeom=Y&getAddrDetails=Y&pageNum=1').text)\n",
    "for result in beachrd['results']:\n",
    "    print(result)"
   ]
  },
  {
   "cell_type": "markdown",
   "id": "9e898eba-acda-47e8-90ca-e010904d0435",
   "metadata": {
    "tags": []
   },
   "source": [
    "To address this, a few steps were taken.\n",
    "* Since the search results from OneMap returns the block no. and road name, we could reconstruct the address of the search result and compare it to the original address. If the two addresses match, then we would take the latitude and longitude for that result.\n",
    "* Before doing that, it was observed that the returns were in full form, while the original addresses had short forms (e.g. 'Road' vs 'Rd'). To make comparing the addresses possible, we would first need to convert all the short forms into their respective full forms. This is done by running the comparison function, and examining mismatches to identify the list of short forms present that had to be converted."
   ]
  },
  {
   "cell_type": "code",
   "execution_count": 31,
   "id": "2180d146-ecac-4c92-a300-613bed652c5f",
   "metadata": {},
   "outputs": [],
   "source": [
    "# List of short forms converted to long forms\n",
    "\n",
    "changes = [[r'\\bAVE\\b', 'AVENUE'],\n",
    "           [r'\\bRD\\b', 'ROAD'],\n",
    "           [r'\\bNTH\\b', 'NORTH'],\n",
    "           [r'\\bSTH\\b', 'SOUTH'],\n",
    "           [r'\\bST\\b', 'STREET'],\n",
    "           [r'\\bCTRL\\b', 'CENTRAL'],\n",
    "           [r'\\bDR\\b', 'DRIVE'],\n",
    "           [r'\\bBT\\b', 'BUKIT'],\n",
    "           [r'\\bJLN\\b', 'JALAN'],\n",
    "           [r'\\bCRES\\b', 'CRESCENT'],\n",
    "           [r'\\bLOR\\b', 'LORONG'],\n",
    "           [r\"\\bC'WEALTH\\b\", 'COMMONWEALTH'],\n",
    "           [r'\\bCL\\b', 'CLOSE'],\n",
    "           [r'\\bGDNS\\b', 'GARDENS'],\n",
    "           [r'\\bUPP\\b', 'UPPER'],\n",
    "           [r'\\bHTS\\b', 'HEIGHTS'],\n",
    "           [r'\\bTER\\b', 'TERRACE'],\n",
    "           [r'\\bPL\\b', 'PLACE'],\n",
    "           [r'\\bTG\\b', 'TANJONG'],\n",
    "           [r'\\bPK\\b', 'PARK'],\n",
    "           [r'\\bMKT\\b', 'MARKET'],\n",
    "           [r'\\bKG\\b', 'KAMPONG']]\n",
    "\n",
    "for short, long in changes:\n",
    "    resale_df['address'] = resale_df['address'].str.replace(short, long)"
   ]
  },
  {
   "cell_type": "code",
   "execution_count": 34,
   "id": "f2dac5df-2e5d-4293-b452-d67e31ca9199",
   "metadata": {},
   "outputs": [],
   "source": [
    "# Improved function for geocoding addresses by checking block no. and street name\n",
    "\n",
    "def onemap_geocoding_flat(address):\n",
    "    result = requests.get('https://developers.onemap.sg/commonapi/search?searchVal='+address+'&returnGeom=Y&getAddrDetails=Y&pageNum=1')\n",
    "    result = eval(result.text)\n",
    "    \n",
    "    if result['found'] > 0:\n",
    "        for i in result['results']:\n",
    "            lat, long = i['LATITUDE'], i['LONGITUDE']\n",
    "            r_block, r_street = i['BLK_NO'], i['ROAD_NAME']\n",
    "            r_add = r_block + ' ' + r_street\n",
    "            \n",
    "            if r_add == address:\n",
    "                return address, r_add, lat, long\n",
    "            else:\n",
    "                continue\n",
    "        return address, 'none', '0', '0'\n",
    "    else:\n",
    "        pass\n",
    "    \n",
    "def geocode_series_flat(addresses):\n",
    "    coord_list = []\n",
    "    failed_list = []\n",
    "    failed = 0\n",
    "    t = trange(len(addresses), desc='Geoding Addresses')\n",
    "    for i in t:\n",
    "        try:\n",
    "            result = onemap_geocoding_flat(addresses[i])\n",
    "            if len(result) > 0:\n",
    "                coord_list.append(result)\n",
    "                t.set_description('{} failed'.format(failed))\n",
    "        except:\n",
    "            failed_list.append(addresses[i])\n",
    "            failed += 1\n",
    "            t.set_description('{} failed'.format(failed))\n",
    "    print(failed_list if failed_list else \"All passed\")\n",
    "    return coord_list"
   ]
  },
  {
   "cell_type": "code",
   "execution_count": 35,
   "id": "346e53da-b08a-4497-b18e-c511370e440d",
   "metadata": {
    "tags": []
   },
   "outputs": [
    {
     "name": "stderr",
     "output_type": "stream",
     "text": [
      "0 failed: 100%|████████████████████████████| 9123/9123 [14:17<00:00, 10.63it/s]"
     ]
    },
    {
     "name": "stdout",
     "output_type": "stream",
     "text": [
      "All passed\n"
     ]
    },
    {
     "name": "stderr",
     "output_type": "stream",
     "text": [
      "\n"
     ]
    }
   ],
   "source": [
    "# Second round of geocoding resale flat addresses\n",
    "\n",
    "house_addresses = resale_df['address'].unique()\n",
    "\n",
    "coord_list = geocode_series_flat(house_addresses)\n",
    "coord_df = pd.DataFrame(coord_list, columns = ['address', 'r_address', 'latitude', 'longitude'])"
   ]
  },
  {
   "cell_type": "markdown",
   "id": "2fcda5a4-fd6f-488c-9772-80791d1ae5b4",
   "metadata": {},
   "source": [
    "A final check was done for any addresses that did not match any search results. It was found that two addresses belonging to \"Choa Chu Kang Central\" did not return any search results. After checking OneMap, these two addresses were collectively grouped under \"Blk 216 and 215 Choa Chu Kang Central\". Since there is only one such result that required modification, the modification was done manually."
   ]
  },
  {
   "cell_type": "code",
   "execution_count": 36,
   "id": "ff027361-e666-4c22-9e61-c8b660311ce7",
   "metadata": {},
   "outputs": [
    {
     "data": {
      "text/html": [
       "<div>\n",
       "<style scoped>\n",
       "    .dataframe tbody tr th:only-of-type {\n",
       "        vertical-align: middle;\n",
       "    }\n",
       "\n",
       "    .dataframe tbody tr th {\n",
       "        vertical-align: top;\n",
       "    }\n",
       "\n",
       "    .dataframe thead th {\n",
       "        text-align: right;\n",
       "    }\n",
       "</style>\n",
       "<table border=\"1\" class=\"dataframe\">\n",
       "  <thead>\n",
       "    <tr style=\"text-align: right;\">\n",
       "      <th></th>\n",
       "      <th>address</th>\n",
       "      <th>r_address</th>\n",
       "      <th>latitude</th>\n",
       "      <th>longitude</th>\n",
       "    </tr>\n",
       "  </thead>\n",
       "  <tbody>\n",
       "    <tr>\n",
       "      <th>1283</th>\n",
       "      <td>216 CHOA CHU KANG CENTRAL</td>\n",
       "      <td>none</td>\n",
       "      <td>0</td>\n",
       "      <td>0</td>\n",
       "    </tr>\n",
       "    <tr>\n",
       "      <th>7150</th>\n",
       "      <td>215 CHOA CHU KANG CENTRAL</td>\n",
       "      <td>none</td>\n",
       "      <td>0</td>\n",
       "      <td>0</td>\n",
       "    </tr>\n",
       "  </tbody>\n",
       "</table>\n",
       "</div>"
      ],
      "text/plain": [
       "                        address r_address latitude longitude\n",
       "1283  216 CHOA CHU KANG CENTRAL      none        0         0\n",
       "7150  215 CHOA CHU KANG CENTRAL      none        0         0"
      ]
     },
     "execution_count": 36,
     "metadata": {},
     "output_type": "execute_result"
    }
   ],
   "source": [
    "# Checking for addresses with no search results.\n",
    "\n",
    "coord_df[coord_df['r_address'] == 'none']"
   ]
  },
  {
   "cell_type": "code",
   "execution_count": 39,
   "id": "60d6f4ec-6945-4ef0-8863-8ccaac4a74f3",
   "metadata": {},
   "outputs": [],
   "source": [
    "# Manually correcting the two empty addresses\n",
    "\n",
    "cck_exception = eval(requests.get('https://developers.onemap.sg/commonapi/search?searchVal=BLK 216 AND 215 CHOA CHU KANG CENTRAL&returnGeom=Y&getAddrDetails=Y&pageNum=1').text)['results'][0]\n",
    "coord_df.loc[1283]['latitude'], coord_df.loc[1283]['longitude'] = cck_exception['LATITUDE'], cck_exception['LONGITUDE']\n",
    "coord_df.loc[7150]['latitude'], coord_df.loc[7150]['longitude'] =cck_exception['LATITUDE'], cck_exception['LONGITUDE']"
   ]
  },
  {
   "cell_type": "code",
   "execution_count": 38,
   "id": "bbdbf458-f9b7-446f-a3bb-75f36174bce9",
   "metadata": {},
   "outputs": [
    {
     "data": {
      "text/html": [
       "<div>\n",
       "<style scoped>\n",
       "    .dataframe tbody tr th:only-of-type {\n",
       "        vertical-align: middle;\n",
       "    }\n",
       "\n",
       "    .dataframe tbody tr th {\n",
       "        vertical-align: top;\n",
       "    }\n",
       "\n",
       "    .dataframe thead th {\n",
       "        text-align: right;\n",
       "    }\n",
       "</style>\n",
       "<table border=\"1\" class=\"dataframe\">\n",
       "  <thead>\n",
       "    <tr style=\"text-align: right;\">\n",
       "      <th></th>\n",
       "      <th>address</th>\n",
       "      <th>r_address</th>\n",
       "      <th>latitude</th>\n",
       "      <th>longitude</th>\n",
       "    </tr>\n",
       "  </thead>\n",
       "  <tbody>\n",
       "    <tr>\n",
       "      <th>1283</th>\n",
       "      <td>216 CHOA CHU KANG CENTRAL</td>\n",
       "      <td>none</td>\n",
       "      <td>1.38308302434129</td>\n",
       "      <td>103.747076627693</td>\n",
       "    </tr>\n",
       "    <tr>\n",
       "      <th>7150</th>\n",
       "      <td>215 CHOA CHU KANG CENTRAL</td>\n",
       "      <td>none</td>\n",
       "      <td>1.38308302434129</td>\n",
       "      <td>103.747076627693</td>\n",
       "    </tr>\n",
       "  </tbody>\n",
       "</table>\n",
       "</div>"
      ],
      "text/plain": [
       "                        address r_address          latitude         longitude\n",
       "1283  216 CHOA CHU KANG CENTRAL      none  1.38308302434129  103.747076627693\n",
       "7150  215 CHOA CHU KANG CENTRAL      none  1.38308302434129  103.747076627693"
      ]
     },
     "execution_count": 38,
     "metadata": {},
     "output_type": "execute_result"
    }
   ],
   "source": [
    "# Checking to ensure changes were adopted.\n",
    "\n",
    "coord_df.loc[[1283,7150]]"
   ]
  },
  {
   "cell_type": "code",
   "execution_count": 40,
   "id": "6fd2c739-2850-4502-b076-7fd3bdd3a9ce",
   "metadata": {},
   "outputs": [],
   "source": [
    "# Merging list of latitudes and longitudes back into the original dataframe. We also drop 'r_address' that was used for verification.\n",
    "\n",
    "coord_df[['latitude','longitude']] = coord_df[['latitude', 'longitude']].astype(float)\n",
    "coord_df.drop('r_address', axis=1, inplace=True)\n",
    "\n",
    "resale_df = resale_df.merge(right=coord_df, on='address', how='left')"
   ]
  },
  {
   "cell_type": "markdown",
   "id": "4bc292bd-8308-41a2-8639-7e0eb1399f70",
   "metadata": {},
   "source": [
    "---"
   ]
  },
  {
   "cell_type": "markdown",
   "id": "869fafa9-7271-42ed-9307-171c3d566184",
   "metadata": {},
   "source": [
    "### Distance to nearest MRT\n",
    "\n",
    "A list of existing MRT/LRT stations were obtained from LTA's website. A similar process was adopted to geocode the MRT/LRT stations as was done for the resale flats.\n",
    "\n",
    "Using the latitudes and longitudes of the resale flats and MRT/LRT stations, the distances to each MRT/LRT station was calculated using Pythagoras' Theorem. The distances were compared, and the shortest distance to the nearest MRT station was returned."
   ]
  },
  {
   "cell_type": "code",
   "execution_count": 41,
   "id": "97c91822-adc3-4ef8-ae5a-32c6129e5951",
   "metadata": {},
   "outputs": [],
   "source": [
    "# Reading in list of MRT/LRT stations\n",
    "\n",
    "mrt_df = pd.read_csv('data\\mrt_stations.csv')"
   ]
  },
  {
   "cell_type": "code",
   "execution_count": 42,
   "id": "0d3d02a5-604f-4e2f-8588-709a79a6ca76",
   "metadata": {
    "tags": []
   },
   "outputs": [
    {
     "name": "stderr",
     "output_type": "stream",
     "text": [
      "0 failed: 100%|██████████████████████████████| 170/170 [00:12<00:00, 13.55it/s]\n"
     ]
    }
   ],
   "source": [
    "# Geocoding of MRT/LRT stations.\n",
    "\n",
    "mrt_names = mrt_df['stn_name'].unique()\n",
    "mrt_coord = geocode_series(mrt_names)"
   ]
  },
  {
   "cell_type": "code",
   "execution_count": 51,
   "id": "11391399-b191-42ad-819b-b5b8869c5584",
   "metadata": {},
   "outputs": [],
   "source": [
    "# Function for calculating nearest distance to each flat.\n",
    "\n",
    "def calculate_dist(address_df, dist_list):\n",
    "    temp = address_df.copy()\n",
    "    for i in dist_list:\n",
    "        name, lat, long = i[0], float(i[1]), float(i[2])\n",
    "        temp['{}'.format(name)] = (((address_df['latitude'] - lat) * 110.574) ** 2 + ((address_df['longitude'] - long) * 111.32) ** 2) ** 0.5\n",
    "    nearest_name = temp.drop(['address', 'longitude', 'latitude'], axis=1).idxmin(axis=1)\n",
    "    nearest_dist = temp.drop(['address', 'longitude', 'latitude'], axis=1).min(axis=1)\n",
    "    nearest = pd.concat([temp['address'], nearest_name, nearest_dist], axis=1)\n",
    "    return nearest"
   ]
  },
  {
   "cell_type": "code",
   "execution_count": 54,
   "id": "24f7f315-03ae-4913-aaa5-ff6d6c3babb1",
   "metadata": {},
   "outputs": [],
   "source": [
    "# Calculating the nearest MRT/LRT station.\n",
    "\n",
    "mrt_dist_df = calculate_dist(coord_df, mrt_coord)\n",
    "mrt_dist_df.columns = ['address', 'nearest_mrt', 'nearest_mrt_dist']"
   ]
  },
  {
   "cell_type": "code",
   "execution_count": 55,
   "id": "97d498db-d60c-4add-a3b1-a49fa7b0fbd2",
   "metadata": {},
   "outputs": [
    {
     "data": {
      "text/html": [
       "<div>\n",
       "<style scoped>\n",
       "    .dataframe tbody tr th:only-of-type {\n",
       "        vertical-align: middle;\n",
       "    }\n",
       "\n",
       "    .dataframe tbody tr th {\n",
       "        vertical-align: top;\n",
       "    }\n",
       "\n",
       "    .dataframe thead th {\n",
       "        text-align: right;\n",
       "    }\n",
       "</style>\n",
       "<table border=\"1\" class=\"dataframe\">\n",
       "  <thead>\n",
       "    <tr style=\"text-align: right;\">\n",
       "      <th></th>\n",
       "      <th>address</th>\n",
       "      <th>nearest_mrt</th>\n",
       "      <th>nearest_mrt_dist</th>\n",
       "    </tr>\n",
       "  </thead>\n",
       "  <tbody>\n",
       "    <tr>\n",
       "      <th>0</th>\n",
       "      <td>406 ANG MO KIO AVENUE 10</td>\n",
       "      <td>ANG MO KIO MRT STATION</td>\n",
       "      <td>1.000002</td>\n",
       "    </tr>\n",
       "    <tr>\n",
       "      <th>1</th>\n",
       "      <td>108 ANG MO KIO AVENUE 4</td>\n",
       "      <td>MAYFLOWER MRT STATION</td>\n",
       "      <td>0.190030</td>\n",
       "    </tr>\n",
       "    <tr>\n",
       "      <th>2</th>\n",
       "      <td>602 ANG MO KIO AVENUE 5</td>\n",
       "      <td>LENTOR MRT STATION</td>\n",
       "      <td>0.532151</td>\n",
       "    </tr>\n",
       "    <tr>\n",
       "      <th>3</th>\n",
       "      <td>465 ANG MO KIO AVENUE 10</td>\n",
       "      <td>ANG MO KIO MRT STATION</td>\n",
       "      <td>0.945591</td>\n",
       "    </tr>\n",
       "    <tr>\n",
       "      <th>4</th>\n",
       "      <td>601 ANG MO KIO AVENUE 5</td>\n",
       "      <td>LENTOR MRT STATION</td>\n",
       "      <td>0.498418</td>\n",
       "    </tr>\n",
       "  </tbody>\n",
       "</table>\n",
       "</div>"
      ],
      "text/plain": [
       "                    address             nearest_mrt  nearest_mrt_dist\n",
       "0  406 ANG MO KIO AVENUE 10  ANG MO KIO MRT STATION          1.000002\n",
       "1   108 ANG MO KIO AVENUE 4   MAYFLOWER MRT STATION          0.190030\n",
       "2   602 ANG MO KIO AVENUE 5      LENTOR MRT STATION          0.532151\n",
       "3  465 ANG MO KIO AVENUE 10  ANG MO KIO MRT STATION          0.945591\n",
       "4   601 ANG MO KIO AVENUE 5      LENTOR MRT STATION          0.498418"
      ]
     },
     "execution_count": 55,
     "metadata": {},
     "output_type": "execute_result"
    }
   ],
   "source": [
    "# Resultant dataset mrt_dist_df is a list of the nearest MRT station and their distance to each unique address.\n",
    "\n",
    "mrt_dist_df.head()"
   ]
  },
  {
   "cell_type": "code",
   "execution_count": 94,
   "id": "24ddd838-571d-4b56-8aa4-0ad7aab24c15",
   "metadata": {},
   "outputs": [],
   "source": [
    "# Merging the list of nearest MRT/LRT stations back into the original dataset\n",
    "\n",
    "resale_df = resale_df.merge(right=mrt_dist_df, on='address', how='left')"
   ]
  },
  {
   "cell_type": "markdown",
   "id": "fa7d43cc-e001-4923-8df6-ee2bebe28dd8",
   "metadata": {},
   "source": [
    "---"
   ]
  },
  {
   "cell_type": "markdown",
   "id": "04479de5-8c3a-4476-bbae-7205e82fba7b",
   "metadata": {},
   "source": [
    "### Distance to nearest Primary/Secondary School\n",
    "\n",
    "A list of existing schools was also obtained from data.gov.sg. Due to the different types of schools, additional treatment had to be used to categorise certain schools (i.e. I-P schools, schools with primary and secondary sections).\n",
    "\n",
    "Using similar methods, the schools were geocoded and split into Primary and Secondary schools. For each set, the nearest school was found using the same function as before."
   ]
  },
  {
   "cell_type": "code",
   "execution_count": 43,
   "id": "d8ee4b93-8577-49cd-bcdb-394fddf4d677",
   "metadata": {},
   "outputs": [],
   "source": [
    "# Importing list of schools from data.gov.sg API\n",
    "\n",
    "schools = requests.get('https://data.gov.sg/api/action/datastore_search?resource_id=ede26d32-01af-4228-b1ed-f05c45a1d8ee&limit=347').json()\n",
    "schools_df = pd.DataFrame(schools['result']['records'])[['school_name', 'postal_code', 'mainlevel_code']]"
   ]
  },
  {
   "cell_type": "code",
   "execution_count": 44,
   "id": "dd9df5a1-89f9-4b99-a58d-870e9cf145d9",
   "metadata": {},
   "outputs": [],
   "source": [
    "# List of schools with 'mainlevel_code' == 'Mixed Levels' was isolated, and recategorised into whether they were I-P schools or schools with primary and secondary sections.\n",
    "\n",
    "ip_schools = ['ANGLO-CHINESE SCHOOL (INDEPENDENT)',\n",
    "              'DUNMAN HIGH SCHOOL',\n",
    "              'HWA CHONG INSTITUTION',\n",
    "              'NATIONAL JUNIOR COLLEGE',\n",
    "              'NUS HIGH SCHOOL OF MATHEMATICS AND SCIENCE',\n",
    "              'RAFFLES INSTITUTION',\n",
    "              'RIVER VALLEY HIGH SCHOOL',\n",
    "              'SCHOOL OF THE ARTS, SINGAPORE',\n",
    "              'SINGAPORE SPORTS SCHOOL',\n",
    "              \"ST. JOSEPH'S INSTITUTION\",\n",
    "              'TEMASEK JUNIOR COLLEGE']\n",
    "both_schools = ['CATHOLIC HIGH SCHOOL',\n",
    "                \"CHIJ ST. NICHOLAS GIRLS' SCHOOL\",\n",
    "                'MARIS STELLA HIGH SCHOOL']\n",
    "\n",
    "for school in ip_schools:\n",
    "    schools_df['mainlevel_code'] = np.where((schools_df['school_name'] == school), 'SECONDARY', schools_df['mainlevel_code'])\n",
    "    \n",
    "both_schools_df = schools_df[schools_df['school_name'].isin(both_schools)]\n",
    "both_schools_df['mainlevel_code'] = 'SECONDARY'\n",
    "\n",
    "for school in both_schools:\n",
    "    schools_df['mainlevel_code'] = np.where((schools_df['school_name'] == school), 'PRIMARY', schools_df['mainlevel_code'])\n",
    "    \n",
    "schools_df = pd.concat([schools_df, both_schools_df])"
   ]
  },
  {
   "cell_type": "code",
   "execution_count": 45,
   "id": "d7ff39e4-8e0b-4f9e-a8cc-a5a72198579d",
   "metadata": {},
   "outputs": [],
   "source": [
    "# Since we are only considering Primary and Secondary schools, Junior Colleges were dropped from the list.\n",
    "\n",
    "schools_df.drop(schools_df[schools_df['mainlevel_code'] == 'JUNIOR COLLEGE'].index, inplace=True)\n",
    "schools_df.drop(schools_df[schools_df['mainlevel_code'] == 'CENTRALISED INSTITUTE'].index, inplace=True)"
   ]
  },
  {
   "cell_type": "code",
   "execution_count": 46,
   "id": "4cd5b561-bd13-4184-a86d-4cf52ea66d76",
   "metadata": {},
   "outputs": [
    {
     "name": "stdout",
     "output_type": "stream",
     "text": [
      "88256\n",
      "99757\n",
      "99138\n",
      "99840\n"
     ]
    }
   ],
   "source": [
    "# Since postal codes for schools were available, they were used for geocoding instead. However before geocoding, it was also noticed that some schools have postal codes with a missing leading '0'.\n",
    "\n",
    "school_postal = schools_df['postal_code'].unique()\n",
    "for i in range(len(school_postal)):\n",
    "    if len(school_postal[i]) < 6:\n",
    "        print(school_postal[i])"
   ]
  },
  {
   "cell_type": "code",
   "execution_count": 47,
   "id": "6a25163f-5251-473a-91c8-ca32fdef4bfb",
   "metadata": {},
   "outputs": [],
   "source": [
    "# These codes were addressed before geocoding.\n",
    "\n",
    "for i in range(len(school_postal)):\n",
    "    if len(school_postal[i]) < 6:\n",
    "        new_postal = '0' + school_postal[i]\n",
    "        school_postal[i] = new_postal"
   ]
  },
  {
   "cell_type": "code",
   "execution_count": 48,
   "id": "fc835223-41ee-4de9-aa2c-0c9f00a374c7",
   "metadata": {
    "tags": []
   },
   "outputs": [
    {
     "name": "stderr",
     "output_type": "stream",
     "text": [
      "0 failed: 100%|██████████████████████████████| 333/333 [00:28<00:00, 11.88it/s]\n"
     ]
    }
   ],
   "source": [
    "# Geocoding of primary/secondary schools.\n",
    "\n",
    "school_coord = geocode_series(school_postal)\n",
    "school_coord_df = pd.DataFrame(school_coord, columns=['postal_code', 'latitude', 'longitude'])\n",
    "school_coord_df[['latitude', 'longitude']] = school_coord_df[['latitude', 'longitude']].astype(float)\n",
    "schools_df = schools_df.merge(right=school_coord_df, on='postal_code', how='left')"
   ]
  },
  {
   "cell_type": "code",
   "execution_count": 63,
   "id": "266650f5-d246-4b92-aa70-589b42df6e3c",
   "metadata": {},
   "outputs": [],
   "source": [
    "# Schools were then separated into primary and secondary schools, as these two will be treated separately.\n",
    "\n",
    "schools_pri_df = schools_df[schools_df['mainlevel_code'] == 'PRIMARY'][['school_name', 'latitude', 'longitude']]\n",
    "schools_pri = list(schools_pri_df.itertuples(index=False, name=None))\n",
    "schools_sec_df = schools_df[schools_df['mainlevel_code'] == 'SECONDARY'][['school_name', 'latitude', 'longitude']]\n",
    "schools_sec = list(schools_sec_df.itertuples(index=False, name=None))"
   ]
  },
  {
   "cell_type": "code",
   "execution_count": 64,
   "id": "a5b7a12d-0343-4abd-a50e-cdacd0ee7223",
   "metadata": {},
   "outputs": [],
   "source": [
    "# Calculating the nearest primary and secondary school.\n",
    "\n",
    "schools_pri_dist_df = calculate_dist(coord_df, schools_pri)\n",
    "schools_pri_dist_df.columns = ['address', 'nearest_pri_sch', 'nearest_pri_sch_dist']\n",
    "\n",
    "schools_sec_dist_df = calculate_dist(coord_df, schools_sec)\n",
    "schools_sec_dist_df.columns = ['address', 'nearest_sec_sch', 'nearest_sec_sch_dist']"
   ]
  },
  {
   "cell_type": "code",
   "execution_count": 65,
   "id": "d11301db-138a-4f55-86f1-25389445df74",
   "metadata": {},
   "outputs": [
    {
     "data": {
      "text/html": [
       "<div>\n",
       "<style scoped>\n",
       "    .dataframe tbody tr th:only-of-type {\n",
       "        vertical-align: middle;\n",
       "    }\n",
       "\n",
       "    .dataframe tbody tr th {\n",
       "        vertical-align: top;\n",
       "    }\n",
       "\n",
       "    .dataframe thead th {\n",
       "        text-align: right;\n",
       "    }\n",
       "</style>\n",
       "<table border=\"1\" class=\"dataframe\">\n",
       "  <thead>\n",
       "    <tr style=\"text-align: right;\">\n",
       "      <th></th>\n",
       "      <th>address</th>\n",
       "      <th>nearest_pri_sch</th>\n",
       "      <th>nearest_pri_sch_dist</th>\n",
       "    </tr>\n",
       "  </thead>\n",
       "  <tbody>\n",
       "    <tr>\n",
       "      <th>0</th>\n",
       "      <td>406 ANG MO KIO AVENUE 10</td>\n",
       "      <td>TOWNSVILLE PRIMARY SCHOOL</td>\n",
       "      <td>0.218124</td>\n",
       "    </tr>\n",
       "    <tr>\n",
       "      <th>1</th>\n",
       "      <td>108 ANG MO KIO AVENUE 4</td>\n",
       "      <td>ANG MO KIO PRIMARY SCHOOL</td>\n",
       "      <td>0.241601</td>\n",
       "    </tr>\n",
       "    <tr>\n",
       "      <th>2</th>\n",
       "      <td>602 ANG MO KIO AVENUE 5</td>\n",
       "      <td>MAYFLOWER PRIMARY SCHOOL</td>\n",
       "      <td>0.506847</td>\n",
       "    </tr>\n",
       "    <tr>\n",
       "      <th>3</th>\n",
       "      <td>465 ANG MO KIO AVENUE 10</td>\n",
       "      <td>TECK GHEE PRIMARY SCHOOL</td>\n",
       "      <td>0.691887</td>\n",
       "    </tr>\n",
       "    <tr>\n",
       "      <th>4</th>\n",
       "      <td>601 ANG MO KIO AVENUE 5</td>\n",
       "      <td>MAYFLOWER PRIMARY SCHOOL</td>\n",
       "      <td>0.546442</td>\n",
       "    </tr>\n",
       "  </tbody>\n",
       "</table>\n",
       "</div>"
      ],
      "text/plain": [
       "                    address            nearest_pri_sch  nearest_pri_sch_dist\n",
       "0  406 ANG MO KIO AVENUE 10  TOWNSVILLE PRIMARY SCHOOL              0.218124\n",
       "1   108 ANG MO KIO AVENUE 4  ANG MO KIO PRIMARY SCHOOL              0.241601\n",
       "2   602 ANG MO KIO AVENUE 5   MAYFLOWER PRIMARY SCHOOL              0.506847\n",
       "3  465 ANG MO KIO AVENUE 10   TECK GHEE PRIMARY SCHOOL              0.691887\n",
       "4   601 ANG MO KIO AVENUE 5   MAYFLOWER PRIMARY SCHOOL              0.546442"
      ]
     },
     "execution_count": 65,
     "metadata": {},
     "output_type": "execute_result"
    }
   ],
   "source": [
    "# Resultant datasets schools_pri_dist_df and schools_sec_dist_df are lists of the nearest primary and secondary schools and their distance to each unique address.\n",
    "\n",
    "schools_pri_dist_df.head()"
   ]
  },
  {
   "cell_type": "code",
   "execution_count": 95,
   "id": "6069f217-cdaa-45d1-bd1d-2273c88a8035",
   "metadata": {},
   "outputs": [],
   "source": [
    "# Merging nearest primary and secondary schools into the original dataset.\n",
    "\n",
    "resale_df = resale_df.merge(right=schools_pri_dist_df, on='address', how='left')\n",
    "resale_df = resale_df.merge(right=schools_sec_dist_df, on='address', how='left')"
   ]
  },
  {
   "cell_type": "markdown",
   "id": "80da1cba-0fc9-4b79-9f03-1743d654ff11",
   "metadata": {},
   "source": [
    "---"
   ]
  },
  {
   "cell_type": "markdown",
   "id": "3503edb6-8533-41ee-b992-fc6af1cf7df0",
   "metadata": {},
   "source": [
    "### Distance to nearest Mall\n",
    "\n",
    "A list of exising malls was also obtained, and a similar process of geocoding and calculating the nearest mall was done."
   ]
  },
  {
   "cell_type": "code",
   "execution_count": 49,
   "id": "fa10e2ac-1b88-43b9-810a-39a9eae0fbc0",
   "metadata": {},
   "outputs": [],
   "source": [
    "# Importing list of shopping malls in Singapore.\n",
    "\n",
    "malls_df = pd.read_csv('data\\malls.csv')"
   ]
  },
  {
   "cell_type": "code",
   "execution_count": 50,
   "id": "be515bb2-3690-4a94-9ea7-61d3b5375869",
   "metadata": {
    "tags": []
   },
   "outputs": [
    {
     "name": "stderr",
     "output_type": "stream",
     "text": [
      "0 failed: 100%|██████████████████████████████| 170/170 [00:13<00:00, 12.22it/s]\n"
     ]
    }
   ],
   "source": [
    "# Geocoding of shopping malls.\n",
    "\n",
    "malls_coord = geocode_series(malls_df['mall_name'])"
   ]
  },
  {
   "cell_type": "code",
   "execution_count": 69,
   "id": "f75aa7e4-8cb1-4d80-aa4e-229649fe5eb7",
   "metadata": {},
   "outputs": [],
   "source": [
    "# Calculating the nearest shopping mall.\n",
    "\n",
    "malls_dist_df = calculate_dist(coord_df, malls_coord)\n",
    "malls_dist_df.columns = ['address', 'nearest_mall', 'nearest_mall_dist']"
   ]
  },
  {
   "cell_type": "code",
   "execution_count": 70,
   "id": "b0656a76-43d0-42bc-b33f-ed53f11b36cf",
   "metadata": {},
   "outputs": [
    {
     "data": {
      "text/html": [
       "<div>\n",
       "<style scoped>\n",
       "    .dataframe tbody tr th:only-of-type {\n",
       "        vertical-align: middle;\n",
       "    }\n",
       "\n",
       "    .dataframe tbody tr th {\n",
       "        vertical-align: top;\n",
       "    }\n",
       "\n",
       "    .dataframe thead th {\n",
       "        text-align: right;\n",
       "    }\n",
       "</style>\n",
       "<table border=\"1\" class=\"dataframe\">\n",
       "  <thead>\n",
       "    <tr style=\"text-align: right;\">\n",
       "      <th></th>\n",
       "      <th>address</th>\n",
       "      <th>nearest_mall</th>\n",
       "      <th>nearest_mall_dist</th>\n",
       "    </tr>\n",
       "  </thead>\n",
       "  <tbody>\n",
       "    <tr>\n",
       "      <th>0</th>\n",
       "      <td>406 ANG MO KIO AVENUE 10</td>\n",
       "      <td>AMK Hub</td>\n",
       "      <td>1.014089</td>\n",
       "    </tr>\n",
       "    <tr>\n",
       "      <th>1</th>\n",
       "      <td>108 ANG MO KIO AVENUE 4</td>\n",
       "      <td>Broadway Plaza</td>\n",
       "      <td>0.869109</td>\n",
       "    </tr>\n",
       "    <tr>\n",
       "      <th>2</th>\n",
       "      <td>602 ANG MO KIO AVENUE 5</td>\n",
       "      <td>Broadway Plaza</td>\n",
       "      <td>1.525833</td>\n",
       "    </tr>\n",
       "    <tr>\n",
       "      <th>3</th>\n",
       "      <td>465 ANG MO KIO AVENUE 10</td>\n",
       "      <td>myVillage At Serangoon Garden</td>\n",
       "      <td>0.894047</td>\n",
       "    </tr>\n",
       "    <tr>\n",
       "      <th>4</th>\n",
       "      <td>601 ANG MO KIO AVENUE 5</td>\n",
       "      <td>Broadway Plaza</td>\n",
       "      <td>1.569570</td>\n",
       "    </tr>\n",
       "  </tbody>\n",
       "</table>\n",
       "</div>"
      ],
      "text/plain": [
       "                    address                   nearest_mall  nearest_mall_dist\n",
       "0  406 ANG MO KIO AVENUE 10                        AMK Hub           1.014089\n",
       "1   108 ANG MO KIO AVENUE 4                 Broadway Plaza           0.869109\n",
       "2   602 ANG MO KIO AVENUE 5                 Broadway Plaza           1.525833\n",
       "3  465 ANG MO KIO AVENUE 10  myVillage At Serangoon Garden           0.894047\n",
       "4   601 ANG MO KIO AVENUE 5                 Broadway Plaza           1.569570"
      ]
     },
     "execution_count": 70,
     "metadata": {},
     "output_type": "execute_result"
    }
   ],
   "source": [
    "# Resultant dataset malls_dist_df is a list of the nearest shopping mall and their distance to each unique address.\n",
    "\n",
    "malls_dist_df.head()"
   ]
  },
  {
   "cell_type": "code",
   "execution_count": 96,
   "id": "66dc5e6b-4079-4e44-856e-6d0b28ed8f5e",
   "metadata": {},
   "outputs": [],
   "source": [
    "# Merging nearest shopping mall into the original dataset.\n",
    "\n",
    "resale_df = resale_df.merge(right=malls_dist_df, on='address', how='left')"
   ]
  },
  {
   "cell_type": "markdown",
   "id": "085dcf55-c38e-4239-92cf-31ec6f3c4afd",
   "metadata": {},
   "source": [
    "---"
   ]
  },
  {
   "cell_type": "markdown",
   "id": "abf6ba44-8164-4b51-92a6-522107dd4c09",
   "metadata": {},
   "source": [
    "### Adjusting Resale Prices for Inflation\n",
    "\n",
    "The data available is across a range of years, we would also have to consider the role of inflation in resale prices. For this particular project, since we are looking at predicting current house prices, we will be adjusting the prices to 2021 Q2. While there are some resale transactions that take place in 2021 Q3, the Consumer Price Index (CPI) data for houseing was not yet available. As such, we assume that there is no change in the CPI between 2021 Q2 and 2021 Q3.\n",
    "\n",
    "Information for the CPI of resale flats was obtained from the Singapore Department of Statistics. Since the price index is updated every quarter, it was necessary to group the transaction months of the resale flats into quarters before using the price index to adjust prices."
   ]
  },
  {
   "cell_type": "code",
   "execution_count": 17,
   "id": "94d5ce5d-77f0-49f7-bd14-6173fe3aae96",
   "metadata": {},
   "outputs": [],
   "source": [
    "# Importing price index for resale flats.\n",
    "\n",
    "inflation_df= pd.read_csv('data\\housing_cpi.csv')"
   ]
  },
  {
   "cell_type": "code",
   "execution_count": 73,
   "id": "5a83209e-1601-46ea-9439-8817f196ef39",
   "metadata": {},
   "outputs": [],
   "source": [
    "# Grouping transaction months into quarters.\n",
    "\n",
    "price_df = resale_df[['month', 'resale_price']]\n",
    "price_df['quarter'] = pd.to_datetime(price_df['month'].values, format='%Y-%m').astype('period[Q]').astype(str)"
   ]
  },
  {
   "cell_type": "code",
   "execution_count": 74,
   "id": "9dec8d93-c69b-46ca-927e-c230d2e23d72",
   "metadata": {},
   "outputs": [],
   "source": [
    "# Adjusting prices to 2021 Q2 using price index for resale flats.\n",
    "\n",
    "price_df = price_df.merge(right=inflation_df, on='quarter', how='left')\n",
    "\n",
    "price_df['resale_price'] = price_df['resale_price'].astype(float)\n",
    "price_df['inflation_price'] = price_df['resale_price'] * price_df['inflation']"
   ]
  },
  {
   "cell_type": "code",
   "execution_count": 108,
   "id": "6c9a10d0-bf54-4de8-8ae8-2ae24df45694",
   "metadata": {},
   "outputs": [
    {
     "data": {
      "image/png": "[encoded data removed]",
      "text/plain": [
       "<Figure size 640x480 with 1 Axes>"
      ]
     },
     "metadata": {},
     "output_type": "display_data"
    },
    {
     "data": {
      "image/png": "[encoded data removed]",
      "text/plain": [
       "<Figure size 640x480 with 1 Axes>"
      ]
     },
     "metadata": {},
     "output_type": "display_data"
    }
   ],
   "source": [
    "# Examining resale prices before and after adjustment\n",
    "\n",
    "for feature in ('resale_price', 'inflation_price'):\n",
    "    temp_df = price_df.copy()\n",
    "    temp_df.groupby('quarter')[feature].median().plot.bar()\n",
    "    plt.title(feature)\n",
    "    plt.show()"
   ]
  },
  {
   "cell_type": "code",
   "execution_count": 98,
   "id": "f5e4bdbd-142c-4241-93ed-bf28e20a0c83",
   "metadata": {},
   "outputs": [],
   "source": [
    "# Merging adjusted prices back into the original dataset.\n",
    "\n",
    "resale_df = pd.concat([resale_df, price_df['quarter'], price_df['inflation_price']], axis=1)"
   ]
  },
  {
   "cell_type": "markdown",
   "id": "db77f48f-1d6f-4164-b307-7829edeb57f2",
   "metadata": {},
   "source": [
    "---"
   ]
  },
  {
   "cell_type": "markdown",
   "id": "1e301317-f7ec-4d0c-ae21-99c46c7d8f58",
   "metadata": {
    "tags": []
   },
   "source": [
    "### Saving the dataset\n",
    "\n",
    "At this stage, all the additional features mentioned above have been added to the dataset. The dataset can now be saved to a csv file for data analysis and model building."
   ]
  },
  {
   "cell_type": "code",
   "execution_count": 99,
   "id": "298fd717-763a-4fb9-998b-fcad84ab6d51",
   "metadata": {},
   "outputs": [
    {
     "data": {
      "text/html": [
       "<div>\n",
       "<style scoped>\n",
       "    .dataframe tbody tr th:only-of-type {\n",
       "        vertical-align: middle;\n",
       "    }\n",
       "\n",
       "    .dataframe tbody tr th {\n",
       "        vertical-align: top;\n",
       "    }\n",
       "\n",
       "    .dataframe thead th {\n",
       "        text-align: right;\n",
       "    }\n",
       "</style>\n",
       "<table border=\"1\" class=\"dataframe\">\n",
       "  <thead>\n",
       "    <tr style=\"text-align: right;\">\n",
       "      <th></th>\n",
       "      <th>town</th>\n",
       "      <th>flat_type</th>\n",
       "      <th>flat_model</th>\n",
       "      <th>floor_area_sqm</th>\n",
       "      <th>street_name</th>\n",
       "      <th>resale_price</th>\n",
       "      <th>month</th>\n",
       "      <th>remaining_lease</th>\n",
       "      <th>lease_commence_date</th>\n",
       "      <th>storey_range</th>\n",
       "      <th>_id</th>\n",
       "      <th>block</th>\n",
       "      <th>address</th>\n",
       "      <th>latitude</th>\n",
       "      <th>longitude</th>\n",
       "      <th>nearest_mrt</th>\n",
       "      <th>nearest_mrt_dist</th>\n",
       "      <th>nearest_pri_sch</th>\n",
       "      <th>nearest_pri_sch_dist</th>\n",
       "      <th>nearest_sec_sch</th>\n",
       "      <th>nearest_sec_sch_dist</th>\n",
       "      <th>nearest_mall</th>\n",
       "      <th>nearest_mall_dist</th>\n",
       "      <th>quarter</th>\n",
       "      <th>inflation_price</th>\n",
       "    </tr>\n",
       "  </thead>\n",
       "  <tbody>\n",
       "    <tr>\n",
       "      <th>0</th>\n",
       "      <td>ANG MO KIO</td>\n",
       "      <td>2 ROOM</td>\n",
       "      <td>Improved</td>\n",
       "      <td>44</td>\n",
       "      <td>ANG MO KIO AVE 10</td>\n",
       "      <td>232000</td>\n",
       "      <td>2017-01</td>\n",
       "      <td>61 years 04 months</td>\n",
       "      <td>1979</td>\n",
       "      <td>10 TO 12</td>\n",
       "      <td>1</td>\n",
       "      <td>406</td>\n",
       "      <td>406 ANG MO KIO AVENUE 10</td>\n",
       "      <td>1.362005</td>\n",
       "      <td>103.853880</td>\n",
       "      <td>ANG MO KIO MRT STATION</td>\n",
       "      <td>1.000002</td>\n",
       "      <td>TOWNSVILLE PRIMARY SCHOOL</td>\n",
       "      <td>0.218124</td>\n",
       "      <td>DEYI SECONDARY SCHOOL</td>\n",
       "      <td>0.465777</td>\n",
       "      <td>AMK Hub</td>\n",
       "      <td>1.014089</td>\n",
       "      <td>2017Q1</td>\n",
       "      <td>253657.953698</td>\n",
       "    </tr>\n",
       "    <tr>\n",
       "      <th>1</th>\n",
       "      <td>ANG MO KIO</td>\n",
       "      <td>3 ROOM</td>\n",
       "      <td>New Generation</td>\n",
       "      <td>67</td>\n",
       "      <td>ANG MO KIO AVE 4</td>\n",
       "      <td>250000</td>\n",
       "      <td>2017-01</td>\n",
       "      <td>60 years 07 months</td>\n",
       "      <td>1978</td>\n",
       "      <td>01 TO 03</td>\n",
       "      <td>2</td>\n",
       "      <td>108</td>\n",
       "      <td>108 ANG MO KIO AVENUE 4</td>\n",
       "      <td>1.370966</td>\n",
       "      <td>103.838202</td>\n",
       "      <td>MAYFLOWER MRT STATION</td>\n",
       "      <td>0.190030</td>\n",
       "      <td>ANG MO KIO PRIMARY SCHOOL</td>\n",
       "      <td>0.241601</td>\n",
       "      <td>MAYFLOWER SECONDARY SCHOOL</td>\n",
       "      <td>0.434455</td>\n",
       "      <td>Broadway Plaza</td>\n",
       "      <td>0.869109</td>\n",
       "      <td>2017Q1</td>\n",
       "      <td>273338.312175</td>\n",
       "    </tr>\n",
       "    <tr>\n",
       "      <th>2</th>\n",
       "      <td>ANG MO KIO</td>\n",
       "      <td>3 ROOM</td>\n",
       "      <td>New Generation</td>\n",
       "      <td>67</td>\n",
       "      <td>ANG MO KIO AVE 5</td>\n",
       "      <td>262000</td>\n",
       "      <td>2017-01</td>\n",
       "      <td>62 years 05 months</td>\n",
       "      <td>1980</td>\n",
       "      <td>01 TO 03</td>\n",
       "      <td>3</td>\n",
       "      <td>602</td>\n",
       "      <td>602 ANG MO KIO AVENUE 5</td>\n",
       "      <td>1.380709</td>\n",
       "      <td>103.835368</td>\n",
       "      <td>LENTOR MRT STATION</td>\n",
       "      <td>0.532151</td>\n",
       "      <td>MAYFLOWER PRIMARY SCHOOL</td>\n",
       "      <td>0.506847</td>\n",
       "      <td>PRESBYTERIAN HIGH SCHOOL</td>\n",
       "      <td>0.789393</td>\n",
       "      <td>Broadway Plaza</td>\n",
       "      <td>1.525833</td>\n",
       "      <td>2017Q1</td>\n",
       "      <td>286458.551159</td>\n",
       "    </tr>\n",
       "    <tr>\n",
       "      <th>3</th>\n",
       "      <td>ANG MO KIO</td>\n",
       "      <td>3 ROOM</td>\n",
       "      <td>New Generation</td>\n",
       "      <td>68</td>\n",
       "      <td>ANG MO KIO AVE 10</td>\n",
       "      <td>265000</td>\n",
       "      <td>2017-01</td>\n",
       "      <td>62 years 01 month</td>\n",
       "      <td>1980</td>\n",
       "      <td>04 TO 06</td>\n",
       "      <td>4</td>\n",
       "      <td>465</td>\n",
       "      <td>465 ANG MO KIO AVENUE 10</td>\n",
       "      <td>1.366201</td>\n",
       "      <td>103.857201</td>\n",
       "      <td>ANG MO KIO MRT STATION</td>\n",
       "      <td>0.945591</td>\n",
       "      <td>TECK GHEE PRIMARY SCHOOL</td>\n",
       "      <td>0.691887</td>\n",
       "      <td>DEYI SECONDARY SCHOOL</td>\n",
       "      <td>0.518707</td>\n",
       "      <td>myVillage At Serangoon Garden</td>\n",
       "      <td>0.894047</td>\n",
       "      <td>2017Q1</td>\n",
       "      <td>289738.610906</td>\n",
       "    </tr>\n",
       "    <tr>\n",
       "      <th>4</th>\n",
       "      <td>ANG MO KIO</td>\n",
       "      <td>3 ROOM</td>\n",
       "      <td>New Generation</td>\n",
       "      <td>67</td>\n",
       "      <td>ANG MO KIO AVE 5</td>\n",
       "      <td>265000</td>\n",
       "      <td>2017-01</td>\n",
       "      <td>62 years 05 months</td>\n",
       "      <td>1980</td>\n",
       "      <td>01 TO 03</td>\n",
       "      <td>5</td>\n",
       "      <td>601</td>\n",
       "      <td>601 ANG MO KIO AVENUE 5</td>\n",
       "      <td>1.381041</td>\n",
       "      <td>103.835132</td>\n",
       "      <td>LENTOR MRT STATION</td>\n",
       "      <td>0.498418</td>\n",
       "      <td>MAYFLOWER PRIMARY SCHOOL</td>\n",
       "      <td>0.546442</td>\n",
       "      <td>PRESBYTERIAN HIGH SCHOOL</td>\n",
       "      <td>0.811047</td>\n",
       "      <td>Broadway Plaza</td>\n",
       "      <td>1.569570</td>\n",
       "      <td>2017Q1</td>\n",
       "      <td>289738.610906</td>\n",
       "    </tr>\n",
       "  </tbody>\n",
       "</table>\n",
       "</div>"
      ],
      "text/plain": [
       "         town flat_type      flat_model floor_area_sqm        street_name  \\\n",
       "0  ANG MO KIO    2 ROOM        Improved             44  ANG MO KIO AVE 10   \n",
       "1  ANG MO KIO    3 ROOM  New Generation             67   ANG MO KIO AVE 4   \n",
       "2  ANG MO KIO    3 ROOM  New Generation             67   ANG MO KIO AVE 5   \n",
       "3  ANG MO KIO    3 ROOM  New Generation             68  ANG MO KIO AVE 10   \n",
       "4  ANG MO KIO    3 ROOM  New Generation             67   ANG MO KIO AVE 5   \n",
       "\n",
       "  resale_price    month     remaining_lease lease_commence_date storey_range  \\\n",
       "0       232000  2017-01  61 years 04 months                1979     10 TO 12   \n",
       "1       250000  2017-01  60 years 07 months                1978     01 TO 03   \n",
       "2       262000  2017-01  62 years 05 months                1980     01 TO 03   \n",
       "3       265000  2017-01   62 years 01 month                1980     04 TO 06   \n",
       "4       265000  2017-01  62 years 05 months                1980     01 TO 03   \n",
       "\n",
       "   _id block                   address  latitude   longitude  \\\n",
       "0    1   406  406 ANG MO KIO AVENUE 10  1.362005  103.853880   \n",
       "1    2   108   108 ANG MO KIO AVENUE 4  1.370966  103.838202   \n",
       "2    3   602   602 ANG MO KIO AVENUE 5  1.380709  103.835368   \n",
       "3    4   465  465 ANG MO KIO AVENUE 10  1.366201  103.857201   \n",
       "4    5   601   601 ANG MO KIO AVENUE 5  1.381041  103.835132   \n",
       "\n",
       "              nearest_mrt  nearest_mrt_dist            nearest_pri_sch  \\\n",
       "0  ANG MO KIO MRT STATION          1.000002  TOWNSVILLE PRIMARY SCHOOL   \n",
       "1   MAYFLOWER MRT STATION          0.190030  ANG MO KIO PRIMARY SCHOOL   \n",
       "2      LENTOR MRT STATION          0.532151   MAYFLOWER PRIMARY SCHOOL   \n",
       "3  ANG MO KIO MRT STATION          0.945591   TECK GHEE PRIMARY SCHOOL   \n",
       "4      LENTOR MRT STATION          0.498418   MAYFLOWER PRIMARY SCHOOL   \n",
       "\n",
       "   nearest_pri_sch_dist             nearest_sec_sch  nearest_sec_sch_dist  \\\n",
       "0              0.218124       DEYI SECONDARY SCHOOL              0.465777   \n",
       "1              0.241601  MAYFLOWER SECONDARY SCHOOL              0.434455   \n",
       "2              0.506847    PRESBYTERIAN HIGH SCHOOL              0.789393   \n",
       "3              0.691887       DEYI SECONDARY SCHOOL              0.518707   \n",
       "4              0.546442    PRESBYTERIAN HIGH SCHOOL              0.811047   \n",
       "\n",
       "                    nearest_mall  nearest_mall_dist quarter  inflation_price  \n",
       "0                        AMK Hub           1.014089  2017Q1    253657.953698  \n",
       "1                 Broadway Plaza           0.869109  2017Q1    273338.312175  \n",
       "2                 Broadway Plaza           1.525833  2017Q1    286458.551159  \n",
       "3  myVillage At Serangoon Garden           0.894047  2017Q1    289738.610906  \n",
       "4                 Broadway Plaza           1.569570  2017Q1    289738.610906  "
      ]
     },
     "execution_count": 99,
     "metadata": {},
     "output_type": "execute_result"
    }
   ],
   "source": [
    "# Checking dataset to ensure all columns are present.\n",
    "\n",
    "resale_df.head()"
   ]
  },
  {
   "cell_type": "code",
   "execution_count": 25,
   "id": "c15710c4-2a8f-4ffb-bd05-3fd2ebff8bc5",
   "metadata": {},
   "outputs": [],
   "source": [
    "# Save main dataset to csv\n",
    "\n",
    "resale_df.to_csv('data\\\\resale_prices.csv', index=False)"
   ]
  },
  {
   "cell_type": "code",
   "execution_count": null,
   "id": "df3ffa4a-9baa-495b-a4df-b13db4948a30",
   "metadata": {},
   "outputs": [],
   "source": [
    "# Saving geocoded data to csv\n",
    "\n",
    "coord_df.to_csv('data\\\\coord_data.csv', index=False)\n",
    "mrt_dist_df.to_csv('data\\\\nearest_mrt.csv', index=False)\n",
    "schools_pri_dist_df.to_csv('data\\\\nearest_pri_sch.csv', index=False)\n",
    "schools_sec_dist_df.to_csv('data\\\\nearest_sec_sch.csv', index=False)\n",
    "malls_dist_df.to_csv('data\\\\nearest_mall.csv', index=False)"
   ]
  }
 ],
 "metadata": {
  "kernelspec": {
   "display_name": "Python 3",
   "language": "python",
   "name": "python3"
  },
  "language_info": {
   "codemirror_mode": {
    "name": "ipython",
    "version": 3
   },
   "file_extension": ".py",
   "mimetype": "text/x-python",
   "name": "python",
   "nbconvert_exporter": "python",
   "pygments_lexer": "ipython3",
   "version": "3.8.8"
  }
 },
 "nbformat": 4,
 "nbformat_minor": 5
}
